{
 "cells": [
  {
   "attachments": {},
   "cell_type": "markdown",
   "metadata": {},
   "source": [
    "# Data Analysis with Python Course Project\n",
    "***\n",
    "\n",
    "In this project, you'll be analysing listings data from an e-commerce Platform. \n",
    "\n",
    "The dataset is stored in the `data/project_data.xlsx` file. It contains listing information posted on the platform.\n",
    "\n",
    "One single listing corresponds to one row in the dataset.\n",
    "\n",
    "The dataset has 12 columns, and 464433 rows. \n",
    "\n",
    "Here are the brief descriptions of each column:\n",
    "- `itemid`: a unique ID of the product\n",
    "- `shopid`: a unique ID of the shop\n",
    "- `item_name`: product title  \n",
    "- `item_description`: detailed  product description\n",
    "- `item_variation`: stores variations of a product (e.g. different colours or sizes, in the format like {variation 1 name: variation 1 price, variation 2 name: variation 2 price})\n",
    "- `price`: how much does the item sold\n",
    "- `stock`: how many stocks left \n",
    "- `category`: which category does the product belongs to \n",
    "- `cb_option`: 1 indicates the product is sold by a cross border shop\n",
    "- `is_preferred`: 1 indicates the product is sold by a preferred shop\n",
    "- `sold_count`: how many products have been sold \n",
    "- `item_creation_date`: when are the product uploaded by the seller\n"
   ]
  },
  {
   "cell_type": "markdown",
   "metadata": {},
   "source": [
    "### Questions"
   ]
  },
  {
   "attachments": {},
   "cell_type": "markdown",
   "metadata": {},
   "source": [
    "First step is uploading the necessary file to conduct analysis on."
   ]
  },
  {
   "cell_type": "code",
   "execution_count": 77,
   "metadata": {},
   "outputs": [],
   "source": [
    "import pandas as pd\n",
    "import numpy as np\n",
    "\n",
    "df = pd.read_excel('C:/Users/Uesr/Downloads/project_data.xlsx',\n",
    "                   sheet_name= 'listing_data',\n",
    "                   dtype= {'itemid': str, 'shopid': str,\n",
    "                           'cb_option': str, 'is_preferred': str})"
   ]
  },
  {
   "cell_type": "code",
   "execution_count": 78,
   "metadata": {},
   "outputs": [
    {
     "name": "stdout",
     "output_type": "stream",
     "text": [
      "<class 'pandas.core.frame.DataFrame'>\n",
      "RangeIndex: 464433 entries, 0 to 464432\n",
      "Data columns (total 12 columns):\n",
      " #   Column              Non-Null Count   Dtype         \n",
      "---  ------              --------------   -----         \n",
      " 0   itemid              464433 non-null  object        \n",
      " 1   shopid              464433 non-null  object        \n",
      " 2   item_name           464409 non-null  object        \n",
      " 3   item_description    463336 non-null  object        \n",
      " 4   item_variation      464433 non-null  object        \n",
      " 5   price               464433 non-null  float64       \n",
      " 6   stock               464433 non-null  int64         \n",
      " 7   category            464422 non-null  object        \n",
      " 8   cb_option           464433 non-null  object        \n",
      " 9   is_preferred        464433 non-null  object        \n",
      " 10  sold_count          464433 non-null  int64         \n",
      " 11  item_creation_date  464433 non-null  datetime64[ns]\n",
      "dtypes: datetime64[ns](1), float64(1), int64(2), object(8)\n",
      "memory usage: 42.5+ MB\n"
     ]
    }
   ],
   "source": [
    "df.info()"
   ]
  },
  {
   "cell_type": "code",
   "execution_count": 7,
   "metadata": {},
   "outputs": [
    {
     "data": {
      "text/html": [
       "<div>\n",
       "<style scoped>\n",
       "    .dataframe tbody tr th:only-of-type {\n",
       "        vertical-align: middle;\n",
       "    }\n",
       "\n",
       "    .dataframe tbody tr th {\n",
       "        vertical-align: top;\n",
       "    }\n",
       "\n",
       "    .dataframe thead th {\n",
       "        text-align: right;\n",
       "    }\n",
       "</style>\n",
       "<table border=\"1\" class=\"dataframe\">\n",
       "  <thead>\n",
       "    <tr style=\"text-align: right;\">\n",
       "      <th></th>\n",
       "      <th>itemid</th>\n",
       "      <th>shopid</th>\n",
       "      <th>item_name</th>\n",
       "      <th>item_description</th>\n",
       "      <th>item_variation</th>\n",
       "      <th>price</th>\n",
       "      <th>stock</th>\n",
       "      <th>category</th>\n",
       "      <th>cb_option</th>\n",
       "      <th>is_preferred</th>\n",
       "      <th>sold_count</th>\n",
       "      <th>item_creation_date</th>\n",
       "    </tr>\n",
       "  </thead>\n",
       "  <tbody>\n",
       "    <tr>\n",
       "      <th>0</th>\n",
       "      <td>1925574</td>\n",
       "      <td>210000</td>\n",
       "      <td>Golden mobile numbers</td>\n",
       "      <td>Unregistered prepaid cards1) 93355333  selling...</td>\n",
       "      <td>{}</td>\n",
       "      <td>400.0</td>\n",
       "      <td>1</td>\n",
       "      <td>Mobile &amp; Gadgets</td>\n",
       "      <td>0</td>\n",
       "      <td>0</td>\n",
       "      <td>0</td>\n",
       "      <td>2015-10-01 00:24:42</td>\n",
       "    </tr>\n",
       "    <tr>\n",
       "      <th>1</th>\n",
       "      <td>1925617</td>\n",
       "      <td>210000</td>\n",
       "      <td>Golden mobile numbers</td>\n",
       "      <td>Unregistered prepaid cards1) 93355888  selling...</td>\n",
       "      <td>{}</td>\n",
       "      <td>400.0</td>\n",
       "      <td>1</td>\n",
       "      <td>Mobile &amp; Gadgets</td>\n",
       "      <td>0</td>\n",
       "      <td>0</td>\n",
       "      <td>0</td>\n",
       "      <td>2015-10-01 00:26:37</td>\n",
       "    </tr>\n",
       "    <tr>\n",
       "      <th>2</th>\n",
       "      <td>943600</td>\n",
       "      <td>210000</td>\n",
       "      <td>Golden Mobile Numbers</td>\n",
       "      <td>Unregistered prepaid cards. Can port to post p...</td>\n",
       "      <td>{}</td>\n",
       "      <td>8.0</td>\n",
       "      <td>1</td>\n",
       "      <td>Mobile &amp; Gadgets</td>\n",
       "      <td>0</td>\n",
       "      <td>0</td>\n",
       "      <td>0</td>\n",
       "      <td>2015-08-25 21:02:13</td>\n",
       "    </tr>\n",
       "    <tr>\n",
       "      <th>3</th>\n",
       "      <td>1064405</td>\n",
       "      <td>210000</td>\n",
       "      <td>Golden Mobile Numbers</td>\n",
       "      <td>Unregistered prepaid cards. Can port to post p...</td>\n",
       "      <td>{}</td>\n",
       "      <td>8.0</td>\n",
       "      <td>1</td>\n",
       "      <td>Mobile &amp; Gadgets</td>\n",
       "      <td>0</td>\n",
       "      <td>0</td>\n",
       "      <td>0</td>\n",
       "      <td>2015-08-30 20:16:07</td>\n",
       "    </tr>\n",
       "    <tr>\n",
       "      <th>4</th>\n",
       "      <td>20046620</td>\n",
       "      <td>760000</td>\n",
       "      <td>101% AUTHENTIC BASEBALL CAPS</td>\n",
       "      <td>PREORDER Takes about 23 weeks to arrive, will ...</td>\n",
       "      <td>{NEWERA BLACK: 35.0, NIKE SWOOSH DENIM: 35.0, ...</td>\n",
       "      <td>35.0</td>\n",
       "      <td>300</td>\n",
       "      <td>Women's Apparel</td>\n",
       "      <td>0</td>\n",
       "      <td>0</td>\n",
       "      <td>0</td>\n",
       "      <td>2016-05-09 01:14:34</td>\n",
       "    </tr>\n",
       "  </tbody>\n",
       "</table>\n",
       "</div>"
      ],
      "text/plain": [
       "     itemid  shopid                     item_name  \\\n",
       "0   1925574  210000         Golden mobile numbers   \n",
       "1   1925617  210000         Golden mobile numbers   \n",
       "2    943600  210000         Golden Mobile Numbers   \n",
       "3   1064405  210000         Golden Mobile Numbers   \n",
       "4  20046620  760000  101% AUTHENTIC BASEBALL CAPS   \n",
       "\n",
       "                                    item_description  \\\n",
       "0  Unregistered prepaid cards1) 93355333  selling...   \n",
       "1  Unregistered prepaid cards1) 93355888  selling...   \n",
       "2  Unregistered prepaid cards. Can port to post p...   \n",
       "3  Unregistered prepaid cards. Can port to post p...   \n",
       "4  PREORDER Takes about 23 weeks to arrive, will ...   \n",
       "\n",
       "                                      item_variation  price  stock  \\\n",
       "0                                                 {}  400.0      1   \n",
       "1                                                 {}  400.0      1   \n",
       "2                                                 {}    8.0      1   \n",
       "3                                                 {}    8.0      1   \n",
       "4  {NEWERA BLACK: 35.0, NIKE SWOOSH DENIM: 35.0, ...   35.0    300   \n",
       "\n",
       "           category cb_option is_preferred  sold_count  item_creation_date  \n",
       "0  Mobile & Gadgets         0            0           0 2015-10-01 00:24:42  \n",
       "1  Mobile & Gadgets         0            0           0 2015-10-01 00:26:37  \n",
       "2  Mobile & Gadgets         0            0           0 2015-08-25 21:02:13  \n",
       "3  Mobile & Gadgets         0            0           0 2015-08-30 20:16:07  \n",
       "4   Women's Apparel         0            0           0 2016-05-09 01:14:34  "
      ]
     },
     "execution_count": 7,
     "metadata": {},
     "output_type": "execute_result"
    }
   ],
   "source": [
    "df.head()"
   ]
  },
  {
   "attachments": {},
   "cell_type": "markdown",
   "metadata": {},
   "source": [
    "## 1. How many unique shops are in the dataset?\n"
   ]
  },
  {
   "attachments": {},
   "cell_type": "markdown",
   "metadata": {},
   "source": [
    "We use `set()` function to count unique shopids\n"
   ]
  },
  {
   "cell_type": "code",
   "execution_count": 79,
   "metadata": {},
   "outputs": [
    {
     "data": {
      "text/plain": [
       "7856"
      ]
     },
     "execution_count": 79,
     "metadata": {},
     "output_type": "execute_result"
    }
   ],
   "source": [
    "len(set(df['shopid']))  "
   ]
  },
  {
   "cell_type": "markdown",
   "metadata": {},
   "source": [
    "OR we can use `unique()` function\n"
   ]
  },
  {
   "cell_type": "code",
   "execution_count": 80,
   "metadata": {},
   "outputs": [
    {
     "data": {
      "text/plain": [
       "7856"
      ]
     },
     "execution_count": 80,
     "metadata": {},
     "output_type": "execute_result"
    }
   ],
   "source": [
    "len(df['shopid'].unique())"
   ]
  },
  {
   "attachments": {},
   "cell_type": "markdown",
   "metadata": {},
   "source": [
    "## 2. How many unique preferred and cross border shops are in the dataset?"
   ]
  },
  {
   "attachments": {},
   "cell_type": "markdown",
   "metadata": {},
   "source": [
    "Boolean indexing"
   ]
  },
  {
   "cell_type": "code",
   "execution_count": 81,
   "metadata": {},
   "outputs": [
    {
     "data": {
      "text/plain": [
       "158"
      ]
     },
     "execution_count": 81,
     "metadata": {},
     "output_type": "execute_result"
    }
   ],
   "source": [
    "len(df[(df.cb_option=='1') & (df.is_preferred=='1')]['shopid'].unique())"
   ]
  },
  {
   "attachments": {},
   "cell_type": "markdown",
   "metadata": {},
   "source": [
    ".loc + np.where\n"
   ]
  },
  {
   "cell_type": "code",
   "execution_count": 82,
   "metadata": {},
   "outputs": [
    {
     "name": "stdout",
     "output_type": "stream",
     "text": [
      "(array([   947,    948,    949, ..., 463426, 463427, 463428], dtype=int64),)\n"
     ]
    },
    {
     "data": {
      "text/plain": [
       "158"
      ]
     },
     "execution_count": 82,
     "metadata": {},
     "output_type": "execute_result"
    }
   ],
   "source": [
    "print(np.where((df.cb_option=='1') & (df.is_preferred=='1')))\n",
    "\n",
    "len(df.loc[np.where((df.cb_option=='1') & (df.is_preferred=='1'))]['shopid'].unique())"
   ]
  },
  {
   "attachments": {},
   "cell_type": "markdown",
   "metadata": {},
   "source": [
    "## 3. How many products have zero sold count?"
   ]
  },
  {
   "attachments": {},
   "cell_type": "markdown",
   "metadata": {},
   "source": [
    "`unique()` function\n"
   ]
  },
  {
   "cell_type": "code",
   "execution_count": 83,
   "metadata": {},
   "outputs": [
    {
     "data": {
      "text/plain": [
       "438092"
      ]
     },
     "execution_count": 83,
     "metadata": {},
     "output_type": "execute_result"
    }
   ],
   "source": [
    "len(df[(df.sold_count==0)]['itemid'].unique())"
   ]
  },
  {
   "attachments": {},
   "cell_type": "markdown",
   "metadata": {},
   "source": [
    "`np.where()` + `unique()` function"
   ]
  },
  {
   "cell_type": "code",
   "execution_count": 84,
   "metadata": {},
   "outputs": [
    {
     "data": {
      "text/plain": [
       "438092"
      ]
     },
     "execution_count": 84,
     "metadata": {},
     "output_type": "execute_result"
    }
   ],
   "source": [
    "len(df.loc[np.where(df.sold_count==0)]['itemid'].unique())"
   ]
  },
  {
   "attachments": {},
   "cell_type": "markdown",
   "metadata": {},
   "source": [
    "## 4. How many products were created in the year 2018?"
   ]
  },
  {
   "cell_type": "code",
   "execution_count": 85,
   "metadata": {},
   "outputs": [],
   "source": [
    "from datetime import datetime"
   ]
  },
  {
   "attachments": {},
   "cell_type": "markdown",
   "metadata": {},
   "source": [
    "Using `strftime` we can extract year or date from datetime format data"
   ]
  },
  {
   "cell_type": "code",
   "execution_count": 86,
   "metadata": {},
   "outputs": [
    {
     "data": {
      "text/html": [
       "<div>\n",
       "<style scoped>\n",
       "    .dataframe tbody tr th:only-of-type {\n",
       "        vertical-align: middle;\n",
       "    }\n",
       "\n",
       "    .dataframe tbody tr th {\n",
       "        vertical-align: top;\n",
       "    }\n",
       "\n",
       "    .dataframe thead th {\n",
       "        text-align: right;\n",
       "    }\n",
       "</style>\n",
       "<table border=\"1\" class=\"dataframe\">\n",
       "  <thead>\n",
       "    <tr style=\"text-align: right;\">\n",
       "      <th></th>\n",
       "      <th>itemid</th>\n",
       "      <th>shopid</th>\n",
       "      <th>item_name</th>\n",
       "      <th>item_description</th>\n",
       "      <th>item_variation</th>\n",
       "      <th>price</th>\n",
       "      <th>stock</th>\n",
       "      <th>category</th>\n",
       "      <th>cb_option</th>\n",
       "      <th>is_preferred</th>\n",
       "      <th>sold_count</th>\n",
       "      <th>item_creation_date</th>\n",
       "      <th>year</th>\n",
       "    </tr>\n",
       "  </thead>\n",
       "  <tbody>\n",
       "    <tr>\n",
       "      <th>0</th>\n",
       "      <td>1925574</td>\n",
       "      <td>210000</td>\n",
       "      <td>Golden mobile numbers</td>\n",
       "      <td>Unregistered prepaid cards1) 93355333  selling...</td>\n",
       "      <td>{}</td>\n",
       "      <td>400.0</td>\n",
       "      <td>1</td>\n",
       "      <td>Mobile &amp; Gadgets</td>\n",
       "      <td>0</td>\n",
       "      <td>0</td>\n",
       "      <td>0</td>\n",
       "      <td>2015-10-01 00:24:42</td>\n",
       "      <td>2015</td>\n",
       "    </tr>\n",
       "    <tr>\n",
       "      <th>1</th>\n",
       "      <td>1925617</td>\n",
       "      <td>210000</td>\n",
       "      <td>Golden mobile numbers</td>\n",
       "      <td>Unregistered prepaid cards1) 93355888  selling...</td>\n",
       "      <td>{}</td>\n",
       "      <td>400.0</td>\n",
       "      <td>1</td>\n",
       "      <td>Mobile &amp; Gadgets</td>\n",
       "      <td>0</td>\n",
       "      <td>0</td>\n",
       "      <td>0</td>\n",
       "      <td>2015-10-01 00:26:37</td>\n",
       "      <td>2015</td>\n",
       "    </tr>\n",
       "    <tr>\n",
       "      <th>2</th>\n",
       "      <td>943600</td>\n",
       "      <td>210000</td>\n",
       "      <td>Golden Mobile Numbers</td>\n",
       "      <td>Unregistered prepaid cards. Can port to post p...</td>\n",
       "      <td>{}</td>\n",
       "      <td>8.0</td>\n",
       "      <td>1</td>\n",
       "      <td>Mobile &amp; Gadgets</td>\n",
       "      <td>0</td>\n",
       "      <td>0</td>\n",
       "      <td>0</td>\n",
       "      <td>2015-08-25 21:02:13</td>\n",
       "      <td>2015</td>\n",
       "    </tr>\n",
       "    <tr>\n",
       "      <th>3</th>\n",
       "      <td>1064405</td>\n",
       "      <td>210000</td>\n",
       "      <td>Golden Mobile Numbers</td>\n",
       "      <td>Unregistered prepaid cards. Can port to post p...</td>\n",
       "      <td>{}</td>\n",
       "      <td>8.0</td>\n",
       "      <td>1</td>\n",
       "      <td>Mobile &amp; Gadgets</td>\n",
       "      <td>0</td>\n",
       "      <td>0</td>\n",
       "      <td>0</td>\n",
       "      <td>2015-08-30 20:16:07</td>\n",
       "      <td>2015</td>\n",
       "    </tr>\n",
       "    <tr>\n",
       "      <th>4</th>\n",
       "      <td>20046620</td>\n",
       "      <td>760000</td>\n",
       "      <td>101% AUTHENTIC BASEBALL CAPS</td>\n",
       "      <td>PREORDER Takes about 23 weeks to arrive, will ...</td>\n",
       "      <td>{NEWERA BLACK: 35.0, NIKE SWOOSH DENIM: 35.0, ...</td>\n",
       "      <td>35.0</td>\n",
       "      <td>300</td>\n",
       "      <td>Women's Apparel</td>\n",
       "      <td>0</td>\n",
       "      <td>0</td>\n",
       "      <td>0</td>\n",
       "      <td>2016-05-09 01:14:34</td>\n",
       "      <td>2016</td>\n",
       "    </tr>\n",
       "  </tbody>\n",
       "</table>\n",
       "</div>"
      ],
      "text/plain": [
       "     itemid  shopid                     item_name  \\\n",
       "0   1925574  210000         Golden mobile numbers   \n",
       "1   1925617  210000         Golden mobile numbers   \n",
       "2    943600  210000         Golden Mobile Numbers   \n",
       "3   1064405  210000         Golden Mobile Numbers   \n",
       "4  20046620  760000  101% AUTHENTIC BASEBALL CAPS   \n",
       "\n",
       "                                    item_description  \\\n",
       "0  Unregistered prepaid cards1) 93355333  selling...   \n",
       "1  Unregistered prepaid cards1) 93355888  selling...   \n",
       "2  Unregistered prepaid cards. Can port to post p...   \n",
       "3  Unregistered prepaid cards. Can port to post p...   \n",
       "4  PREORDER Takes about 23 weeks to arrive, will ...   \n",
       "\n",
       "                                      item_variation  price  stock  \\\n",
       "0                                                 {}  400.0      1   \n",
       "1                                                 {}  400.0      1   \n",
       "2                                                 {}    8.0      1   \n",
       "3                                                 {}    8.0      1   \n",
       "4  {NEWERA BLACK: 35.0, NIKE SWOOSH DENIM: 35.0, ...   35.0    300   \n",
       "\n",
       "           category cb_option is_preferred  sold_count  item_creation_date  \\\n",
       "0  Mobile & Gadgets         0            0           0 2015-10-01 00:24:42   \n",
       "1  Mobile & Gadgets         0            0           0 2015-10-01 00:26:37   \n",
       "2  Mobile & Gadgets         0            0           0 2015-08-25 21:02:13   \n",
       "3  Mobile & Gadgets         0            0           0 2015-08-30 20:16:07   \n",
       "4   Women's Apparel         0            0           0 2016-05-09 01:14:34   \n",
       "\n",
       "   year  \n",
       "0  2015  \n",
       "1  2015  \n",
       "2  2015  \n",
       "3  2015  \n",
       "4  2016  "
      ]
     },
     "execution_count": 86,
     "metadata": {},
     "output_type": "execute_result"
    }
   ],
   "source": [
    "df['year'] = [i.strftime(\"%Y\") for i in df['item_creation_date']]\n",
    "\n",
    "df.head(5)"
   ]
  },
  {
   "attachments": {},
   "cell_type": "markdown",
   "metadata": {},
   "source": [
    "Now we can filter the items created in 2018"
   ]
  },
  {
   "cell_type": "code",
   "execution_count": 87,
   "metadata": {},
   "outputs": [
    {
     "data": {
      "text/plain": [
       "177407"
      ]
     },
     "execution_count": 87,
     "metadata": {},
     "output_type": "execute_result"
    }
   ],
   "source": [
    "len(df[df.year=='2018']['itemid'].unique())"
   ]
  },
  {
   "attachments": {},
   "cell_type": "markdown",
   "metadata": {},
   "source": [
    "## 5. Show Top 3 Preferred shops’ shopid that have the largest number of unique products"
   ]
  },
  {
   "attachments": {},
   "cell_type": "markdown",
   "metadata": {},
   "source": [
    "- First > filter out preferred shops\n",
    "- Second > group them into shopid category\n",
    "- Third > sort value in descending order\n",
    "- Lastly > pull out TOP 3 results using index"
   ]
  },
  {
   "cell_type": "code",
   "execution_count": 88,
   "metadata": {},
   "outputs": [
    {
     "data": {
      "text/plain": [
       "shopid\n",
       "43384791    2034\n",
       "6072241     1998\n",
       "26974701    1037\n",
       "Name: itemid, dtype: int64"
      ]
     },
     "execution_count": 88,
     "metadata": {},
     "output_type": "execute_result"
    }
   ],
   "source": [
    "df[df['is_preferred']=='1'].groupby(['shopid'])['itemid'].count().sort_values(ascending=False)[0:3]"
   ]
  },
  {
   "attachments": {},
   "cell_type": "markdown",
   "metadata": {},
   "source": [
    "## 6. Show Top 3 Categories that have the largest number of unique cross-border products"
   ]
  },
  {
   "attachments": {},
   "cell_type": "markdown",
   "metadata": {},
   "source": [
    "- Filter to cross-border products, 'cb_option'== 1\n",
    "- Groupby them by 'itemid' and count\n",
    "- Sort value and pull out TOP 3"
   ]
  },
  {
   "cell_type": "code",
   "execution_count": 90,
   "metadata": {},
   "outputs": [
    {
     "data": {
      "text/plain": [
       "category\n",
       "Women's Apparel     80494\n",
       "Mobile & Gadgets    58760\n",
       "Men's Wear          51795\n",
       "Name: shopid, dtype: int64"
      ]
     },
     "execution_count": 90,
     "metadata": {},
     "output_type": "execute_result"
    }
   ],
   "source": [
    "df[df['cb_option']=='1'].groupby(['category'])['shopid'].count().sort_values(ascending=False)[0:3]"
   ]
  },
  {
   "attachments": {},
   "cell_type": "markdown",
   "metadata": {},
   "source": [
    "## 7. Find Top 3 shopid with the highest revenue (Assumption: the product price has not been changed.)"
   ]
  },
  {
   "attachments": {},
   "cell_type": "markdown",
   "metadata": {},
   "source": [
    "- We can add another column named 'revenue' that represents the revenue of each item \n",
    "- Sort it in descending order "
   ]
  },
  {
   "cell_type": "code",
   "execution_count": 91,
   "metadata": {},
   "outputs": [
    {
     "data": {
      "text/html": [
       "<div>\n",
       "<style scoped>\n",
       "    .dataframe tbody tr th:only-of-type {\n",
       "        vertical-align: middle;\n",
       "    }\n",
       "\n",
       "    .dataframe tbody tr th {\n",
       "        vertical-align: top;\n",
       "    }\n",
       "\n",
       "    .dataframe thead th {\n",
       "        text-align: right;\n",
       "    }\n",
       "</style>\n",
       "<table border=\"1\" class=\"dataframe\">\n",
       "  <thead>\n",
       "    <tr style=\"text-align: right;\">\n",
       "      <th></th>\n",
       "      <th>itemid</th>\n",
       "      <th>shopid</th>\n",
       "      <th>item_name</th>\n",
       "      <th>item_description</th>\n",
       "      <th>item_variation</th>\n",
       "      <th>price</th>\n",
       "      <th>stock</th>\n",
       "      <th>category</th>\n",
       "      <th>cb_option</th>\n",
       "      <th>is_preferred</th>\n",
       "      <th>sold_count</th>\n",
       "      <th>item_creation_date</th>\n",
       "      <th>year</th>\n",
       "      <th>revenue</th>\n",
       "    </tr>\n",
       "  </thead>\n",
       "  <tbody>\n",
       "    <tr>\n",
       "      <th>0</th>\n",
       "      <td>1925574</td>\n",
       "      <td>210000</td>\n",
       "      <td>Golden mobile numbers</td>\n",
       "      <td>Unregistered prepaid cards1) 93355333  selling...</td>\n",
       "      <td>{}</td>\n",
       "      <td>400.0</td>\n",
       "      <td>1</td>\n",
       "      <td>Mobile &amp; Gadgets</td>\n",
       "      <td>0</td>\n",
       "      <td>0</td>\n",
       "      <td>0</td>\n",
       "      <td>2015-10-01 00:24:42</td>\n",
       "      <td>2015</td>\n",
       "      <td>0.0</td>\n",
       "    </tr>\n",
       "    <tr>\n",
       "      <th>1</th>\n",
       "      <td>1925617</td>\n",
       "      <td>210000</td>\n",
       "      <td>Golden mobile numbers</td>\n",
       "      <td>Unregistered prepaid cards1) 93355888  selling...</td>\n",
       "      <td>{}</td>\n",
       "      <td>400.0</td>\n",
       "      <td>1</td>\n",
       "      <td>Mobile &amp; Gadgets</td>\n",
       "      <td>0</td>\n",
       "      <td>0</td>\n",
       "      <td>0</td>\n",
       "      <td>2015-10-01 00:26:37</td>\n",
       "      <td>2015</td>\n",
       "      <td>0.0</td>\n",
       "    </tr>\n",
       "    <tr>\n",
       "      <th>2</th>\n",
       "      <td>943600</td>\n",
       "      <td>210000</td>\n",
       "      <td>Golden Mobile Numbers</td>\n",
       "      <td>Unregistered prepaid cards. Can port to post p...</td>\n",
       "      <td>{}</td>\n",
       "      <td>8.0</td>\n",
       "      <td>1</td>\n",
       "      <td>Mobile &amp; Gadgets</td>\n",
       "      <td>0</td>\n",
       "      <td>0</td>\n",
       "      <td>0</td>\n",
       "      <td>2015-08-25 21:02:13</td>\n",
       "      <td>2015</td>\n",
       "      <td>0.0</td>\n",
       "    </tr>\n",
       "    <tr>\n",
       "      <th>3</th>\n",
       "      <td>1064405</td>\n",
       "      <td>210000</td>\n",
       "      <td>Golden Mobile Numbers</td>\n",
       "      <td>Unregistered prepaid cards. Can port to post p...</td>\n",
       "      <td>{}</td>\n",
       "      <td>8.0</td>\n",
       "      <td>1</td>\n",
       "      <td>Mobile &amp; Gadgets</td>\n",
       "      <td>0</td>\n",
       "      <td>0</td>\n",
       "      <td>0</td>\n",
       "      <td>2015-08-30 20:16:07</td>\n",
       "      <td>2015</td>\n",
       "      <td>0.0</td>\n",
       "    </tr>\n",
       "    <tr>\n",
       "      <th>4</th>\n",
       "      <td>20046620</td>\n",
       "      <td>760000</td>\n",
       "      <td>101% AUTHENTIC BASEBALL CAPS</td>\n",
       "      <td>PREORDER Takes about 23 weeks to arrive, will ...</td>\n",
       "      <td>{NEWERA BLACK: 35.0, NIKE SWOOSH DENIM: 35.0, ...</td>\n",
       "      <td>35.0</td>\n",
       "      <td>300</td>\n",
       "      <td>Women's Apparel</td>\n",
       "      <td>0</td>\n",
       "      <td>0</td>\n",
       "      <td>0</td>\n",
       "      <td>2016-05-09 01:14:34</td>\n",
       "      <td>2016</td>\n",
       "      <td>0.0</td>\n",
       "    </tr>\n",
       "  </tbody>\n",
       "</table>\n",
       "</div>"
      ],
      "text/plain": [
       "     itemid  shopid                     item_name  \\\n",
       "0   1925574  210000         Golden mobile numbers   \n",
       "1   1925617  210000         Golden mobile numbers   \n",
       "2    943600  210000         Golden Mobile Numbers   \n",
       "3   1064405  210000         Golden Mobile Numbers   \n",
       "4  20046620  760000  101% AUTHENTIC BASEBALL CAPS   \n",
       "\n",
       "                                    item_description  \\\n",
       "0  Unregistered prepaid cards1) 93355333  selling...   \n",
       "1  Unregistered prepaid cards1) 93355888  selling...   \n",
       "2  Unregistered prepaid cards. Can port to post p...   \n",
       "3  Unregistered prepaid cards. Can port to post p...   \n",
       "4  PREORDER Takes about 23 weeks to arrive, will ...   \n",
       "\n",
       "                                      item_variation  price  stock  \\\n",
       "0                                                 {}  400.0      1   \n",
       "1                                                 {}  400.0      1   \n",
       "2                                                 {}    8.0      1   \n",
       "3                                                 {}    8.0      1   \n",
       "4  {NEWERA BLACK: 35.0, NIKE SWOOSH DENIM: 35.0, ...   35.0    300   \n",
       "\n",
       "           category cb_option is_preferred  sold_count  item_creation_date  \\\n",
       "0  Mobile & Gadgets         0            0           0 2015-10-01 00:24:42   \n",
       "1  Mobile & Gadgets         0            0           0 2015-10-01 00:26:37   \n",
       "2  Mobile & Gadgets         0            0           0 2015-08-25 21:02:13   \n",
       "3  Mobile & Gadgets         0            0           0 2015-08-30 20:16:07   \n",
       "4   Women's Apparel         0            0           0 2016-05-09 01:14:34   \n",
       "\n",
       "   year  revenue  \n",
       "0  2015      0.0  \n",
       "1  2015      0.0  \n",
       "2  2015      0.0  \n",
       "3  2015      0.0  \n",
       "4  2016      0.0  "
      ]
     },
     "execution_count": 91,
     "metadata": {},
     "output_type": "execute_result"
    }
   ],
   "source": [
    "df['revenue'] = df['sold_count']*df['price']\n",
    "df.head()"
   ]
  },
  {
   "cell_type": "code",
   "execution_count": 92,
   "metadata": {},
   "outputs": [
    {
     "data": {
      "text/plain": [
       "shopid\n",
       "18796234    177897.79\n",
       "30769353     63491.39\n",
       "30628794     39852.00\n",
       "Name: revenue, dtype: float64"
      ]
     },
     "execution_count": 92,
     "metadata": {},
     "output_type": "execute_result"
    }
   ],
   "source": [
    "df.groupby(['shopid'])['revenue'].sum().sort_values(ascending=False)[0:3]"
   ]
  },
  {
   "attachments": {},
   "cell_type": "markdown",
   "metadata": {},
   "source": [
    "## 8. Find number of products that have more than 3 variations (do not include products with 3 or fewer variations)"
   ]
  },
  {
   "attachments": {},
   "cell_type": "markdown",
   "metadata": {},
   "source": [
    "- First we create 'variation_count' column to determine how many variation each item has\n",
    "- Then we filter out the products that have more than 3 variations\n",
    "- Finally we count the filtered products"
   ]
  },
  {
   "cell_type": "code",
   "execution_count": 93,
   "metadata": {},
   "outputs": [
    {
     "data": {
      "text/html": [
       "<div>\n",
       "<style scoped>\n",
       "    .dataframe tbody tr th:only-of-type {\n",
       "        vertical-align: middle;\n",
       "    }\n",
       "\n",
       "    .dataframe tbody tr th {\n",
       "        vertical-align: top;\n",
       "    }\n",
       "\n",
       "    .dataframe thead th {\n",
       "        text-align: right;\n",
       "    }\n",
       "</style>\n",
       "<table border=\"1\" class=\"dataframe\">\n",
       "  <thead>\n",
       "    <tr style=\"text-align: right;\">\n",
       "      <th></th>\n",
       "      <th>item_variation</th>\n",
       "      <th>variation_count</th>\n",
       "    </tr>\n",
       "  </thead>\n",
       "  <tbody>\n",
       "    <tr>\n",
       "      <th>0</th>\n",
       "      <td>{}</td>\n",
       "      <td>0</td>\n",
       "    </tr>\n",
       "    <tr>\n",
       "      <th>1</th>\n",
       "      <td>{}</td>\n",
       "      <td>0</td>\n",
       "    </tr>\n",
       "    <tr>\n",
       "      <th>2</th>\n",
       "      <td>{}</td>\n",
       "      <td>0</td>\n",
       "    </tr>\n",
       "    <tr>\n",
       "      <th>3</th>\n",
       "      <td>{}</td>\n",
       "      <td>0</td>\n",
       "    </tr>\n",
       "    <tr>\n",
       "      <th>4</th>\n",
       "      <td>{NEWERA BLACK: 35.0, NIKE SWOOSH DENIM: 35.0, ...</td>\n",
       "      <td>6</td>\n",
       "    </tr>\n",
       "    <tr>\n",
       "      <th>5</th>\n",
       "      <td>{NIKE SWOOSH DENIM: 35.0, NIKE SWOOSH BLACK: 3...</td>\n",
       "      <td>6</td>\n",
       "    </tr>\n",
       "    <tr>\n",
       "      <th>6</th>\n",
       "      <td>{Hydratg UV: 28.72, Super Hydg: 28.72, Whiteni...</td>\n",
       "      <td>3</td>\n",
       "    </tr>\n",
       "    <tr>\n",
       "      <th>7</th>\n",
       "      <td>{}</td>\n",
       "      <td>0</td>\n",
       "    </tr>\n",
       "    <tr>\n",
       "      <th>8</th>\n",
       "      <td>{S: 9.98, M: 9.98, L: 9.98, XL: 9.98}</td>\n",
       "      <td>4</td>\n",
       "    </tr>\n",
       "    <tr>\n",
       "      <th>9</th>\n",
       "      <td>{S: 9.98, M: 9.98, L: 9.98}</td>\n",
       "      <td>3</td>\n",
       "    </tr>\n",
       "  </tbody>\n",
       "</table>\n",
       "</div>"
      ],
      "text/plain": [
       "                                      item_variation  variation_count\n",
       "0                                                 {}                0\n",
       "1                                                 {}                0\n",
       "2                                                 {}                0\n",
       "3                                                 {}                0\n",
       "4  {NEWERA BLACK: 35.0, NIKE SWOOSH DENIM: 35.0, ...                6\n",
       "5  {NIKE SWOOSH DENIM: 35.0, NIKE SWOOSH BLACK: 3...                6\n",
       "6  {Hydratg UV: 28.72, Super Hydg: 28.72, Whiteni...                3\n",
       "7                                                 {}                0\n",
       "8              {S: 9.98, M: 9.98, L: 9.98, XL: 9.98}                4\n",
       "9                        {S: 9.98, M: 9.98, L: 9.98}                3"
      ]
     },
     "execution_count": 93,
     "metadata": {},
     "output_type": "execute_result"
    }
   ],
   "source": [
    "df['variation_count'] = [i.count(':') for i in df['item_variation']]\n",
    "df[['item_variation', 'variation_count']].head(10)\n",
    "\n"
   ]
  },
  {
   "cell_type": "code",
   "execution_count": 94,
   "metadata": {},
   "outputs": [
    {
     "data": {
      "text/plain": [
       "242150"
      ]
     },
     "execution_count": 94,
     "metadata": {},
     "output_type": "execute_result"
    }
   ],
   "source": [
    "df[df['variation_count']>3]['itemid'].count()"
   ]
  },
  {
   "attachments": {},
   "cell_type": "markdown",
   "metadata": {},
   "source": [
    "## 9. Identify duplicated listings within each shop (If listing A and B in shops have the exactly same product title, product detailed description, and price, both listing A and B are considered as duplicated listings)"
   ]
  },
  {
   "attachments": {},
   "cell_type": "markdown",
   "metadata": {},
   "source": [
    "To do so we need to concatenate product title, description and price into one new column. If the new column items have the same value, then the they are the duplicated listings "
   ]
  },
  {
   "cell_type": "code",
   "execution_count": 95,
   "metadata": {},
   "outputs": [
    {
     "data": {
      "text/html": [
       "<div>\n",
       "<style scoped>\n",
       "    .dataframe tbody tr th:only-of-type {\n",
       "        vertical-align: middle;\n",
       "    }\n",
       "\n",
       "    .dataframe tbody tr th {\n",
       "        vertical-align: top;\n",
       "    }\n",
       "\n",
       "    .dataframe thead th {\n",
       "        text-align: right;\n",
       "    }\n",
       "</style>\n",
       "<table border=\"1\" class=\"dataframe\">\n",
       "  <thead>\n",
       "    <tr style=\"text-align: right;\">\n",
       "      <th></th>\n",
       "      <th>itemid</th>\n",
       "      <th>shopid</th>\n",
       "      <th>item_name</th>\n",
       "      <th>item_description</th>\n",
       "      <th>item_variation</th>\n",
       "      <th>price</th>\n",
       "      <th>stock</th>\n",
       "      <th>category</th>\n",
       "      <th>cb_option</th>\n",
       "      <th>is_preferred</th>\n",
       "      <th>sold_count</th>\n",
       "      <th>item_creation_date</th>\n",
       "      <th>year</th>\n",
       "      <th>revenue</th>\n",
       "      <th>variation_count</th>\n",
       "      <th>listing_details</th>\n",
       "    </tr>\n",
       "  </thead>\n",
       "  <tbody>\n",
       "    <tr>\n",
       "      <th>0</th>\n",
       "      <td>1925574</td>\n",
       "      <td>210000</td>\n",
       "      <td>Golden mobile numbers</td>\n",
       "      <td>Unregistered prepaid cards1) 93355333  selling...</td>\n",
       "      <td>{}</td>\n",
       "      <td>400.00</td>\n",
       "      <td>1</td>\n",
       "      <td>Mobile &amp; Gadgets</td>\n",
       "      <td>0</td>\n",
       "      <td>0</td>\n",
       "      <td>0</td>\n",
       "      <td>2015-10-01 00:24:42</td>\n",
       "      <td>2015</td>\n",
       "      <td>0.0</td>\n",
       "      <td>0</td>\n",
       "      <td>Golden mobile numbersUnregistered prepaid card...</td>\n",
       "    </tr>\n",
       "    <tr>\n",
       "      <th>1</th>\n",
       "      <td>1925617</td>\n",
       "      <td>210000</td>\n",
       "      <td>Golden mobile numbers</td>\n",
       "      <td>Unregistered prepaid cards1) 93355888  selling...</td>\n",
       "      <td>{}</td>\n",
       "      <td>400.00</td>\n",
       "      <td>1</td>\n",
       "      <td>Mobile &amp; Gadgets</td>\n",
       "      <td>0</td>\n",
       "      <td>0</td>\n",
       "      <td>0</td>\n",
       "      <td>2015-10-01 00:26:37</td>\n",
       "      <td>2015</td>\n",
       "      <td>0.0</td>\n",
       "      <td>0</td>\n",
       "      <td>Golden mobile numbersUnregistered prepaid card...</td>\n",
       "    </tr>\n",
       "    <tr>\n",
       "      <th>2</th>\n",
       "      <td>943600</td>\n",
       "      <td>210000</td>\n",
       "      <td>Golden Mobile Numbers</td>\n",
       "      <td>Unregistered prepaid cards. Can port to post p...</td>\n",
       "      <td>{}</td>\n",
       "      <td>8.00</td>\n",
       "      <td>1</td>\n",
       "      <td>Mobile &amp; Gadgets</td>\n",
       "      <td>0</td>\n",
       "      <td>0</td>\n",
       "      <td>0</td>\n",
       "      <td>2015-08-25 21:02:13</td>\n",
       "      <td>2015</td>\n",
       "      <td>0.0</td>\n",
       "      <td>0</td>\n",
       "      <td>Golden Mobile NumbersUnregistered prepaid card...</td>\n",
       "    </tr>\n",
       "    <tr>\n",
       "      <th>3</th>\n",
       "      <td>1064405</td>\n",
       "      <td>210000</td>\n",
       "      <td>Golden Mobile Numbers</td>\n",
       "      <td>Unregistered prepaid cards. Can port to post p...</td>\n",
       "      <td>{}</td>\n",
       "      <td>8.00</td>\n",
       "      <td>1</td>\n",
       "      <td>Mobile &amp; Gadgets</td>\n",
       "      <td>0</td>\n",
       "      <td>0</td>\n",
       "      <td>0</td>\n",
       "      <td>2015-08-30 20:16:07</td>\n",
       "      <td>2015</td>\n",
       "      <td>0.0</td>\n",
       "      <td>0</td>\n",
       "      <td>Golden Mobile NumbersUnregistered prepaid card...</td>\n",
       "    </tr>\n",
       "    <tr>\n",
       "      <th>4</th>\n",
       "      <td>20046620</td>\n",
       "      <td>760000</td>\n",
       "      <td>101% AUTHENTIC BASEBALL CAPS</td>\n",
       "      <td>PREORDER Takes about 23 weeks to arrive, will ...</td>\n",
       "      <td>{NEWERA BLACK: 35.0, NIKE SWOOSH DENIM: 35.0, ...</td>\n",
       "      <td>35.00</td>\n",
       "      <td>300</td>\n",
       "      <td>Women's Apparel</td>\n",
       "      <td>0</td>\n",
       "      <td>0</td>\n",
       "      <td>0</td>\n",
       "      <td>2016-05-09 01:14:34</td>\n",
       "      <td>2016</td>\n",
       "      <td>0.0</td>\n",
       "      <td>6</td>\n",
       "      <td>101% AUTHENTIC BASEBALL CAPSPREORDER Takes abo...</td>\n",
       "    </tr>\n",
       "    <tr>\n",
       "      <th>5</th>\n",
       "      <td>20047128</td>\n",
       "      <td>760000</td>\n",
       "      <td>101% AUTHENTIC BASEBALL CAPS</td>\n",
       "      <td>PREORDER Takes about 23 weeks to arrive, will ...</td>\n",
       "      <td>{NIKE SWOOSH DENIM: 35.0, NIKE SWOOSH BLACK: 3...</td>\n",
       "      <td>35.00</td>\n",
       "      <td>299</td>\n",
       "      <td>Men's Wear</td>\n",
       "      <td>0</td>\n",
       "      <td>0</td>\n",
       "      <td>1</td>\n",
       "      <td>2016-05-09 01:18:21</td>\n",
       "      <td>2016</td>\n",
       "      <td>35.0</td>\n",
       "      <td>6</td>\n",
       "      <td>101% AUTHENTIC BASEBALL CAPSPREORDER Takes abo...</td>\n",
       "    </tr>\n",
       "    <tr>\n",
       "      <th>6</th>\n",
       "      <td>78419076</td>\n",
       "      <td>11272000</td>\n",
       "      <td>Hada Labo Super Hydrating Perfect Gel Moisturi...</td>\n",
       "      <td>Hada Labo Super Hydrating Perfect Gel Moisturi...</td>\n",
       "      <td>{Hydratg UV: 28.72, Super Hydg: 28.72, Whiteni...</td>\n",
       "      <td>28.72</td>\n",
       "      <td>8</td>\n",
       "      <td>Health &amp; Beauty</td>\n",
       "      <td>0</td>\n",
       "      <td>1</td>\n",
       "      <td>5</td>\n",
       "      <td>2016-10-20 11:17:41</td>\n",
       "      <td>2016</td>\n",
       "      <td>143.6</td>\n",
       "      <td>3</td>\n",
       "      <td>Hada Labo Super Hydrating Perfect Gel Moisturi...</td>\n",
       "    </tr>\n",
       "  </tbody>\n",
       "</table>\n",
       "</div>"
      ],
      "text/plain": [
       "     itemid    shopid                                          item_name  \\\n",
       "0   1925574    210000                              Golden mobile numbers   \n",
       "1   1925617    210000                              Golden mobile numbers   \n",
       "2    943600    210000                              Golden Mobile Numbers   \n",
       "3   1064405    210000                              Golden Mobile Numbers   \n",
       "4  20046620    760000                       101% AUTHENTIC BASEBALL CAPS   \n",
       "5  20047128    760000                       101% AUTHENTIC BASEBALL CAPS   \n",
       "6  78419076  11272000  Hada Labo Super Hydrating Perfect Gel Moisturi...   \n",
       "\n",
       "                                    item_description  \\\n",
       "0  Unregistered prepaid cards1) 93355333  selling...   \n",
       "1  Unregistered prepaid cards1) 93355888  selling...   \n",
       "2  Unregistered prepaid cards. Can port to post p...   \n",
       "3  Unregistered prepaid cards. Can port to post p...   \n",
       "4  PREORDER Takes about 23 weeks to arrive, will ...   \n",
       "5  PREORDER Takes about 23 weeks to arrive, will ...   \n",
       "6  Hada Labo Super Hydrating Perfect Gel Moisturi...   \n",
       "\n",
       "                                      item_variation   price  stock  \\\n",
       "0                                                 {}  400.00      1   \n",
       "1                                                 {}  400.00      1   \n",
       "2                                                 {}    8.00      1   \n",
       "3                                                 {}    8.00      1   \n",
       "4  {NEWERA BLACK: 35.0, NIKE SWOOSH DENIM: 35.0, ...   35.00    300   \n",
       "5  {NIKE SWOOSH DENIM: 35.0, NIKE SWOOSH BLACK: 3...   35.00    299   \n",
       "6  {Hydratg UV: 28.72, Super Hydg: 28.72, Whiteni...   28.72      8   \n",
       "\n",
       "           category cb_option is_preferred  sold_count  item_creation_date  \\\n",
       "0  Mobile & Gadgets         0            0           0 2015-10-01 00:24:42   \n",
       "1  Mobile & Gadgets         0            0           0 2015-10-01 00:26:37   \n",
       "2  Mobile & Gadgets         0            0           0 2015-08-25 21:02:13   \n",
       "3  Mobile & Gadgets         0            0           0 2015-08-30 20:16:07   \n",
       "4   Women's Apparel         0            0           0 2016-05-09 01:14:34   \n",
       "5        Men's Wear         0            0           1 2016-05-09 01:18:21   \n",
       "6   Health & Beauty         0            1           5 2016-10-20 11:17:41   \n",
       "\n",
       "   year  revenue  variation_count  \\\n",
       "0  2015      0.0                0   \n",
       "1  2015      0.0                0   \n",
       "2  2015      0.0                0   \n",
       "3  2015      0.0                0   \n",
       "4  2016      0.0                6   \n",
       "5  2016     35.0                6   \n",
       "6  2016    143.6                3   \n",
       "\n",
       "                                     listing_details  \n",
       "0  Golden mobile numbersUnregistered prepaid card...  \n",
       "1  Golden mobile numbersUnregistered prepaid card...  \n",
       "2  Golden Mobile NumbersUnregistered prepaid card...  \n",
       "3  Golden Mobile NumbersUnregistered prepaid card...  \n",
       "4  101% AUTHENTIC BASEBALL CAPSPREORDER Takes abo...  \n",
       "5  101% AUTHENTIC BASEBALL CAPSPREORDER Takes abo...  \n",
       "6  Hada Labo Super Hydrating Perfect Gel Moisturi...  "
      ]
     },
     "execution_count": 95,
     "metadata": {},
     "output_type": "execute_result"
    }
   ],
   "source": [
    "df['listing_details'] = df['item_name'].astype(str) + df['item_description'].astype(str) + df['price'].astype(str)\n",
    "\n",
    "df.head(7)"
   ]
  },
  {
   "cell_type": "code",
   "execution_count": 96,
   "metadata": {},
   "outputs": [
    {
     "data": {
      "text/html": [
       "<div>\n",
       "<style scoped>\n",
       "    .dataframe tbody tr th:only-of-type {\n",
       "        vertical-align: middle;\n",
       "    }\n",
       "\n",
       "    .dataframe tbody tr th {\n",
       "        vertical-align: top;\n",
       "    }\n",
       "\n",
       "    .dataframe thead th {\n",
       "        text-align: right;\n",
       "    }\n",
       "</style>\n",
       "<table border=\"1\" class=\"dataframe\">\n",
       "  <thead>\n",
       "    <tr style=\"text-align: right;\">\n",
       "      <th></th>\n",
       "      <th>listing_details</th>\n",
       "      <th>shopid</th>\n",
       "    </tr>\n",
       "  </thead>\n",
       "  <tbody>\n",
       "    <tr>\n",
       "      <th>0</th>\n",
       "      <td>\\t Bandage Bodycon Skirt No meet up Size XS25.0</td>\n",
       "      <td>2</td>\n",
       "    </tr>\n",
       "    <tr>\n",
       "      <th>1</th>\n",
       "      <td>Fashion Women Shoulder Bag Satche...</td>\n",
       "      <td>1</td>\n",
       "    </tr>\n",
       "    <tr>\n",
       "      <th>2</th>\n",
       "      <td>Fashion Women Shoulder Bag Satche...</td>\n",
       "      <td>1</td>\n",
       "    </tr>\n",
       "    <tr>\n",
       "      <th>3</th>\n",
       "      <td>Fashion Women Shoulder Bag Satche...</td>\n",
       "      <td>1</td>\n",
       "    </tr>\n",
       "    <tr>\n",
       "      <th>4</th>\n",
       "      <td>BOTTOM HIGH WAIST CLASSICColor: BLACK ...</td>\n",
       "      <td>1</td>\n",
       "    </tr>\n",
       "  </tbody>\n",
       "</table>\n",
       "</div>"
      ],
      "text/plain": [
       "                                     listing_details  shopid\n",
       "0    \\t Bandage Bodycon Skirt No meet up Size XS25.0       2\n",
       "1               Fashion Women Shoulder Bag Satche...       1\n",
       "2               Fashion Women Shoulder Bag Satche...       1\n",
       "3               Fashion Women Shoulder Bag Satche...       1\n",
       "4          BOTTOM HIGH WAIST CLASSICColor: BLACK ...       1"
      ]
     },
     "execution_count": 96,
     "metadata": {},
     "output_type": "execute_result"
    }
   ],
   "source": [
    "shopid_listing_count = df.groupby(['listing_details'])['shopid'].count().reset_index()\n",
    "shopid_listing_count.head()"
   ]
  },
  {
   "cell_type": "code",
   "execution_count": 97,
   "metadata": {},
   "outputs": [
    {
     "data": {
      "text/html": [
       "<div>\n",
       "<style scoped>\n",
       "    .dataframe tbody tr th:only-of-type {\n",
       "        vertical-align: middle;\n",
       "    }\n",
       "\n",
       "    .dataframe tbody tr th {\n",
       "        vertical-align: top;\n",
       "    }\n",
       "\n",
       "    .dataframe thead th {\n",
       "        text-align: right;\n",
       "    }\n",
       "</style>\n",
       "<table border=\"1\" class=\"dataframe\">\n",
       "  <thead>\n",
       "    <tr style=\"text-align: right;\">\n",
       "      <th></th>\n",
       "      <th>listing_details</th>\n",
       "      <th>shopid</th>\n",
       "    </tr>\n",
       "  </thead>\n",
       "  <tbody>\n",
       "    <tr>\n",
       "      <th>0</th>\n",
       "      <td>\\t Bandage Bodycon Skirt No meet up Size XS25.0</td>\n",
       "      <td>2</td>\n",
       "    </tr>\n",
       "    <tr>\n",
       "      <th>12</th>\n",
       "      <td>New Women Handbag ShoulderFeature:    100...</td>\n",
       "      <td>2</td>\n",
       "    </tr>\n",
       "    <tr>\n",
       "      <th>13</th>\n",
       "      <td>Fashion Handbag Lady Shoulder Bag Tote Purs...</td>\n",
       "      <td>2</td>\n",
       "    </tr>\n",
       "    <tr>\n",
       "      <th>14</th>\n",
       "      <td>LVPAI  Vente chaude De Mode De Luxe  Femmes...</td>\n",
       "      <td>2</td>\n",
       "    </tr>\n",
       "    <tr>\n",
       "      <th>16</th>\n",
       "      <td>Mens canvas Sport  Sneakers Recreational Ca...</td>\n",
       "      <td>3</td>\n",
       "    </tr>\n",
       "    <tr>\n",
       "      <th>19</th>\n",
       "      <td>Women Leather Tassel Messenger Bag Cross Bo...</td>\n",
       "      <td>2</td>\n",
       "    </tr>\n",
       "    <tr>\n",
       "      <th>20</th>\n",
       "      <td>Womens Wallet Card Holder Coin Purse Clutch...</td>\n",
       "      <td>3</td>\n",
       "    </tr>\n",
       "    <tr>\n",
       "      <th>21</th>\n",
       "      <td>casual outdoor men shoes breathable sneaker...</td>\n",
       "      <td>3</td>\n",
       "    </tr>\n",
       "    <tr>\n",
       "      <th>23</th>\n",
       "      <td>15 10pcs Grizzly Solid Fiber Feather Hair Ex...</td>\n",
       "      <td>3</td>\n",
       "    </tr>\n",
       "  </tbody>\n",
       "</table>\n",
       "</div>"
      ],
      "text/plain": [
       "                                      listing_details  shopid\n",
       "0     \\t Bandage Bodycon Skirt No meet up Size XS25.0       2\n",
       "12       New Women Handbag ShoulderFeature:    100...       2\n",
       "13     Fashion Handbag Lady Shoulder Bag Tote Purs...       2\n",
       "14     LVPAI  Vente chaude De Mode De Luxe  Femmes...       2\n",
       "16     Mens canvas Sport  Sneakers Recreational Ca...       3\n",
       "19     Women Leather Tassel Messenger Bag Cross Bo...       2\n",
       "20     Womens Wallet Card Holder Coin Purse Clutch...       3\n",
       "21     casual outdoor men shoes breathable sneaker...       3\n",
       "23    15 10pcs Grizzly Solid Fiber Feather Hair Ex...       3"
      ]
     },
     "execution_count": 97,
     "metadata": {},
     "output_type": "execute_result"
    }
   ],
   "source": [
    "shopid_duplicates = shopid_listing_count[shopid_listing_count.shopid>1]\n",
    "\n",
    "shopid_duplicates.head(9)"
   ]
  },
  {
   "cell_type": "code",
   "execution_count": 98,
   "metadata": {},
   "outputs": [
    {
     "data": {
      "text/html": [
       "<div>\n",
       "<style scoped>\n",
       "    .dataframe tbody tr th:only-of-type {\n",
       "        vertical-align: middle;\n",
       "    }\n",
       "\n",
       "    .dataframe tbody tr th {\n",
       "        vertical-align: top;\n",
       "    }\n",
       "\n",
       "    .dataframe thead th {\n",
       "        text-align: right;\n",
       "    }\n",
       "</style>\n",
       "<table border=\"1\" class=\"dataframe\">\n",
       "  <thead>\n",
       "    <tr style=\"text-align: right;\">\n",
       "      <th></th>\n",
       "      <th>listing_details</th>\n",
       "      <th>shopid_count</th>\n",
       "    </tr>\n",
       "  </thead>\n",
       "  <tbody>\n",
       "    <tr>\n",
       "      <th>0</th>\n",
       "      <td>\\t Bandage Bodycon Skirt No meet up Size XS25.0</td>\n",
       "      <td>2</td>\n",
       "    </tr>\n",
       "    <tr>\n",
       "      <th>12</th>\n",
       "      <td>New Women Handbag ShoulderFeature:    100...</td>\n",
       "      <td>2</td>\n",
       "    </tr>\n",
       "    <tr>\n",
       "      <th>13</th>\n",
       "      <td>Fashion Handbag Lady Shoulder Bag Tote Purs...</td>\n",
       "      <td>2</td>\n",
       "    </tr>\n",
       "    <tr>\n",
       "      <th>14</th>\n",
       "      <td>LVPAI  Vente chaude De Mode De Luxe  Femmes...</td>\n",
       "      <td>2</td>\n",
       "    </tr>\n",
       "    <tr>\n",
       "      <th>16</th>\n",
       "      <td>Mens canvas Sport  Sneakers Recreational Ca...</td>\n",
       "      <td>3</td>\n",
       "    </tr>\n",
       "    <tr>\n",
       "      <th>19</th>\n",
       "      <td>Women Leather Tassel Messenger Bag Cross Bo...</td>\n",
       "      <td>2</td>\n",
       "    </tr>\n",
       "    <tr>\n",
       "      <th>20</th>\n",
       "      <td>Womens Wallet Card Holder Coin Purse Clutch...</td>\n",
       "      <td>3</td>\n",
       "    </tr>\n",
       "    <tr>\n",
       "      <th>21</th>\n",
       "      <td>casual outdoor men shoes breathable sneaker...</td>\n",
       "      <td>3</td>\n",
       "    </tr>\n",
       "    <tr>\n",
       "      <th>23</th>\n",
       "      <td>15 10pcs Grizzly Solid Fiber Feather Hair Ex...</td>\n",
       "      <td>3</td>\n",
       "    </tr>\n",
       "  </tbody>\n",
       "</table>\n",
       "</div>"
      ],
      "text/plain": [
       "                                      listing_details  shopid_count\n",
       "0     \\t Bandage Bodycon Skirt No meet up Size XS25.0             2\n",
       "12       New Women Handbag ShoulderFeature:    100...             2\n",
       "13     Fashion Handbag Lady Shoulder Bag Tote Purs...             2\n",
       "14     LVPAI  Vente chaude De Mode De Luxe  Femmes...             2\n",
       "16     Mens canvas Sport  Sneakers Recreational Ca...             3\n",
       "19     Women Leather Tassel Messenger Bag Cross Bo...             2\n",
       "20     Womens Wallet Card Holder Coin Purse Clutch...             3\n",
       "21     casual outdoor men shoes breathable sneaker...             3\n",
       "23    15 10pcs Grizzly Solid Fiber Feather Hair Ex...             3"
      ]
     },
     "execution_count": 98,
     "metadata": {},
     "output_type": "execute_result"
    }
   ],
   "source": [
    "shopid_duplicates.columns = ['listing_details', 'shopid_count']\n",
    "shopid_duplicates.head(9)"
   ]
  },
  {
   "attachments": {},
   "cell_type": "markdown",
   "metadata": {},
   "source": [
    "## 10. Mark those duplicated listings with True otherwise False and store the marking result in a new column named “is_duplicated”"
   ]
  },
  {
   "attachments": {},
   "cell_type": "markdown",
   "metadata": {},
   "source": [
    "- We have to merge the original dataframe with the new dataframe 'shopid_duplicates'\n",
    "- Then we can mark the listing that have value >=2 `True`, and `False` others"
   ]
  },
  {
   "cell_type": "code",
   "execution_count": 99,
   "metadata": {},
   "outputs": [
    {
     "data": {
      "text/html": [
       "<div>\n",
       "<style scoped>\n",
       "    .dataframe tbody tr th:only-of-type {\n",
       "        vertical-align: middle;\n",
       "    }\n",
       "\n",
       "    .dataframe tbody tr th {\n",
       "        vertical-align: top;\n",
       "    }\n",
       "\n",
       "    .dataframe thead th {\n",
       "        text-align: right;\n",
       "    }\n",
       "</style>\n",
       "<table border=\"1\" class=\"dataframe\">\n",
       "  <thead>\n",
       "    <tr style=\"text-align: right;\">\n",
       "      <th></th>\n",
       "      <th>itemid</th>\n",
       "      <th>shopid</th>\n",
       "      <th>item_name</th>\n",
       "      <th>item_description</th>\n",
       "      <th>item_variation</th>\n",
       "      <th>price</th>\n",
       "      <th>stock</th>\n",
       "      <th>category</th>\n",
       "      <th>cb_option</th>\n",
       "      <th>is_preferred</th>\n",
       "      <th>sold_count</th>\n",
       "      <th>item_creation_date</th>\n",
       "      <th>year</th>\n",
       "      <th>revenue</th>\n",
       "      <th>variation_count</th>\n",
       "      <th>listing_details</th>\n",
       "      <th>shopid_count</th>\n",
       "    </tr>\n",
       "  </thead>\n",
       "  <tbody>\n",
       "    <tr>\n",
       "      <th>0</th>\n",
       "      <td>1925574</td>\n",
       "      <td>210000</td>\n",
       "      <td>Golden mobile numbers</td>\n",
       "      <td>Unregistered prepaid cards1) 93355333  selling...</td>\n",
       "      <td>{}</td>\n",
       "      <td>400.00</td>\n",
       "      <td>1</td>\n",
       "      <td>Mobile &amp; Gadgets</td>\n",
       "      <td>0</td>\n",
       "      <td>0</td>\n",
       "      <td>0</td>\n",
       "      <td>2015-10-01 00:24:42</td>\n",
       "      <td>2015</td>\n",
       "      <td>0.00</td>\n",
       "      <td>0</td>\n",
       "      <td>Golden mobile numbersUnregistered prepaid card...</td>\n",
       "      <td>NaN</td>\n",
       "    </tr>\n",
       "    <tr>\n",
       "      <th>1</th>\n",
       "      <td>1925617</td>\n",
       "      <td>210000</td>\n",
       "      <td>Golden mobile numbers</td>\n",
       "      <td>Unregistered prepaid cards1) 93355888  selling...</td>\n",
       "      <td>{}</td>\n",
       "      <td>400.00</td>\n",
       "      <td>1</td>\n",
       "      <td>Mobile &amp; Gadgets</td>\n",
       "      <td>0</td>\n",
       "      <td>0</td>\n",
       "      <td>0</td>\n",
       "      <td>2015-10-01 00:26:37</td>\n",
       "      <td>2015</td>\n",
       "      <td>0.00</td>\n",
       "      <td>0</td>\n",
       "      <td>Golden mobile numbersUnregistered prepaid card...</td>\n",
       "      <td>NaN</td>\n",
       "    </tr>\n",
       "    <tr>\n",
       "      <th>2</th>\n",
       "      <td>943600</td>\n",
       "      <td>210000</td>\n",
       "      <td>Golden Mobile Numbers</td>\n",
       "      <td>Unregistered prepaid cards. Can port to post p...</td>\n",
       "      <td>{}</td>\n",
       "      <td>8.00</td>\n",
       "      <td>1</td>\n",
       "      <td>Mobile &amp; Gadgets</td>\n",
       "      <td>0</td>\n",
       "      <td>0</td>\n",
       "      <td>0</td>\n",
       "      <td>2015-08-25 21:02:13</td>\n",
       "      <td>2015</td>\n",
       "      <td>0.00</td>\n",
       "      <td>0</td>\n",
       "      <td>Golden Mobile NumbersUnregistered prepaid card...</td>\n",
       "      <td>NaN</td>\n",
       "    </tr>\n",
       "    <tr>\n",
       "      <th>3</th>\n",
       "      <td>1064405</td>\n",
       "      <td>210000</td>\n",
       "      <td>Golden Mobile Numbers</td>\n",
       "      <td>Unregistered prepaid cards. Can port to post p...</td>\n",
       "      <td>{}</td>\n",
       "      <td>8.00</td>\n",
       "      <td>1</td>\n",
       "      <td>Mobile &amp; Gadgets</td>\n",
       "      <td>0</td>\n",
       "      <td>0</td>\n",
       "      <td>0</td>\n",
       "      <td>2015-08-30 20:16:07</td>\n",
       "      <td>2015</td>\n",
       "      <td>0.00</td>\n",
       "      <td>0</td>\n",
       "      <td>Golden Mobile NumbersUnregistered prepaid card...</td>\n",
       "      <td>NaN</td>\n",
       "    </tr>\n",
       "    <tr>\n",
       "      <th>4</th>\n",
       "      <td>20046620</td>\n",
       "      <td>760000</td>\n",
       "      <td>101% AUTHENTIC BASEBALL CAPS</td>\n",
       "      <td>PREORDER Takes about 23 weeks to arrive, will ...</td>\n",
       "      <td>{NEWERA BLACK: 35.0, NIKE SWOOSH DENIM: 35.0, ...</td>\n",
       "      <td>35.00</td>\n",
       "      <td>300</td>\n",
       "      <td>Women's Apparel</td>\n",
       "      <td>0</td>\n",
       "      <td>0</td>\n",
       "      <td>0</td>\n",
       "      <td>2016-05-09 01:14:34</td>\n",
       "      <td>2016</td>\n",
       "      <td>0.00</td>\n",
       "      <td>6</td>\n",
       "      <td>101% AUTHENTIC BASEBALL CAPSPREORDER Takes abo...</td>\n",
       "      <td>NaN</td>\n",
       "    </tr>\n",
       "    <tr>\n",
       "      <th>5</th>\n",
       "      <td>20047128</td>\n",
       "      <td>760000</td>\n",
       "      <td>101% AUTHENTIC BASEBALL CAPS</td>\n",
       "      <td>PREORDER Takes about 23 weeks to arrive, will ...</td>\n",
       "      <td>{NIKE SWOOSH DENIM: 35.0, NIKE SWOOSH BLACK: 3...</td>\n",
       "      <td>35.00</td>\n",
       "      <td>299</td>\n",
       "      <td>Men's Wear</td>\n",
       "      <td>0</td>\n",
       "      <td>0</td>\n",
       "      <td>1</td>\n",
       "      <td>2016-05-09 01:18:21</td>\n",
       "      <td>2016</td>\n",
       "      <td>35.00</td>\n",
       "      <td>6</td>\n",
       "      <td>101% AUTHENTIC BASEBALL CAPSPREORDER Takes abo...</td>\n",
       "      <td>NaN</td>\n",
       "    </tr>\n",
       "    <tr>\n",
       "      <th>6</th>\n",
       "      <td>78419076</td>\n",
       "      <td>11272000</td>\n",
       "      <td>Hada Labo Super Hydrating Perfect Gel Moisturi...</td>\n",
       "      <td>Hada Labo Super Hydrating Perfect Gel Moisturi...</td>\n",
       "      <td>{Hydratg UV: 28.72, Super Hydg: 28.72, Whiteni...</td>\n",
       "      <td>28.72</td>\n",
       "      <td>8</td>\n",
       "      <td>Health &amp; Beauty</td>\n",
       "      <td>0</td>\n",
       "      <td>1</td>\n",
       "      <td>5</td>\n",
       "      <td>2016-10-20 11:17:41</td>\n",
       "      <td>2016</td>\n",
       "      <td>143.60</td>\n",
       "      <td>3</td>\n",
       "      <td>Hada Labo Super Hydrating Perfect Gel Moisturi...</td>\n",
       "      <td>NaN</td>\n",
       "    </tr>\n",
       "    <tr>\n",
       "      <th>7</th>\n",
       "      <td>252736983</td>\n",
       "      <td>11272000</td>\n",
       "      <td>Hada Labo Super Hydrating Perfect Gel Moisturi...</td>\n",
       "      <td>Hada Labo is a skin care line researched &amp; dev...</td>\n",
       "      <td>{}</td>\n",
       "      <td>28.72</td>\n",
       "      <td>8</td>\n",
       "      <td>Health &amp; Beauty</td>\n",
       "      <td>0</td>\n",
       "      <td>1</td>\n",
       "      <td>1</td>\n",
       "      <td>2017-05-09 18:33:30</td>\n",
       "      <td>2017</td>\n",
       "      <td>28.72</td>\n",
       "      <td>0</td>\n",
       "      <td>Hada Labo Super Hydrating Perfect Gel Moisturi...</td>\n",
       "      <td>NaN</td>\n",
       "    </tr>\n",
       "    <tr>\n",
       "      <th>8</th>\n",
       "      <td>793229430</td>\n",
       "      <td>49082000</td>\n",
       "      <td>Women Lace Bra Bustier Crop Tops Soft Mesh Tri...</td>\n",
       "      <td>Material: Terylene Colors: BalckStyle: Sexy Br...</td>\n",
       "      <td>{S: 9.98, M: 9.98, L: 9.98, XL: 9.98}</td>\n",
       "      <td>9.98</td>\n",
       "      <td>400</td>\n",
       "      <td>Women's Apparel</td>\n",
       "      <td>1</td>\n",
       "      <td>0</td>\n",
       "      <td>0</td>\n",
       "      <td>2017-12-28 19:55:45</td>\n",
       "      <td>2017</td>\n",
       "      <td>0.00</td>\n",
       "      <td>4</td>\n",
       "      <td>Women Lace Bra Bustier Crop Tops Soft Mesh Tri...</td>\n",
       "      <td>2.0</td>\n",
       "    </tr>\n",
       "  </tbody>\n",
       "</table>\n",
       "</div>"
      ],
      "text/plain": [
       "      itemid    shopid                                          item_name  \\\n",
       "0    1925574    210000                              Golden mobile numbers   \n",
       "1    1925617    210000                              Golden mobile numbers   \n",
       "2     943600    210000                              Golden Mobile Numbers   \n",
       "3    1064405    210000                              Golden Mobile Numbers   \n",
       "4   20046620    760000                       101% AUTHENTIC BASEBALL CAPS   \n",
       "5   20047128    760000                       101% AUTHENTIC BASEBALL CAPS   \n",
       "6   78419076  11272000  Hada Labo Super Hydrating Perfect Gel Moisturi...   \n",
       "7  252736983  11272000  Hada Labo Super Hydrating Perfect Gel Moisturi...   \n",
       "8  793229430  49082000  Women Lace Bra Bustier Crop Tops Soft Mesh Tri...   \n",
       "\n",
       "                                    item_description  \\\n",
       "0  Unregistered prepaid cards1) 93355333  selling...   \n",
       "1  Unregistered prepaid cards1) 93355888  selling...   \n",
       "2  Unregistered prepaid cards. Can port to post p...   \n",
       "3  Unregistered prepaid cards. Can port to post p...   \n",
       "4  PREORDER Takes about 23 weeks to arrive, will ...   \n",
       "5  PREORDER Takes about 23 weeks to arrive, will ...   \n",
       "6  Hada Labo Super Hydrating Perfect Gel Moisturi...   \n",
       "7  Hada Labo is a skin care line researched & dev...   \n",
       "8  Material: Terylene Colors: BalckStyle: Sexy Br...   \n",
       "\n",
       "                                      item_variation   price  stock  \\\n",
       "0                                                 {}  400.00      1   \n",
       "1                                                 {}  400.00      1   \n",
       "2                                                 {}    8.00      1   \n",
       "3                                                 {}    8.00      1   \n",
       "4  {NEWERA BLACK: 35.0, NIKE SWOOSH DENIM: 35.0, ...   35.00    300   \n",
       "5  {NIKE SWOOSH DENIM: 35.0, NIKE SWOOSH BLACK: 3...   35.00    299   \n",
       "6  {Hydratg UV: 28.72, Super Hydg: 28.72, Whiteni...   28.72      8   \n",
       "7                                                 {}   28.72      8   \n",
       "8              {S: 9.98, M: 9.98, L: 9.98, XL: 9.98}    9.98    400   \n",
       "\n",
       "           category cb_option is_preferred  sold_count  item_creation_date  \\\n",
       "0  Mobile & Gadgets         0            0           0 2015-10-01 00:24:42   \n",
       "1  Mobile & Gadgets         0            0           0 2015-10-01 00:26:37   \n",
       "2  Mobile & Gadgets         0            0           0 2015-08-25 21:02:13   \n",
       "3  Mobile & Gadgets         0            0           0 2015-08-30 20:16:07   \n",
       "4   Women's Apparel         0            0           0 2016-05-09 01:14:34   \n",
       "5        Men's Wear         0            0           1 2016-05-09 01:18:21   \n",
       "6   Health & Beauty         0            1           5 2016-10-20 11:17:41   \n",
       "7   Health & Beauty         0            1           1 2017-05-09 18:33:30   \n",
       "8   Women's Apparel         1            0           0 2017-12-28 19:55:45   \n",
       "\n",
       "   year  revenue  variation_count  \\\n",
       "0  2015     0.00                0   \n",
       "1  2015     0.00                0   \n",
       "2  2015     0.00                0   \n",
       "3  2015     0.00                0   \n",
       "4  2016     0.00                6   \n",
       "5  2016    35.00                6   \n",
       "6  2016   143.60                3   \n",
       "7  2017    28.72                0   \n",
       "8  2017     0.00                4   \n",
       "\n",
       "                                     listing_details  shopid_count  \n",
       "0  Golden mobile numbersUnregistered prepaid card...           NaN  \n",
       "1  Golden mobile numbersUnregistered prepaid card...           NaN  \n",
       "2  Golden Mobile NumbersUnregistered prepaid card...           NaN  \n",
       "3  Golden Mobile NumbersUnregistered prepaid card...           NaN  \n",
       "4  101% AUTHENTIC BASEBALL CAPSPREORDER Takes abo...           NaN  \n",
       "5  101% AUTHENTIC BASEBALL CAPSPREORDER Takes abo...           NaN  \n",
       "6  Hada Labo Super Hydrating Perfect Gel Moisturi...           NaN  \n",
       "7  Hada Labo Super Hydrating Perfect Gel Moisturi...           NaN  \n",
       "8  Women Lace Bra Bustier Crop Tops Soft Mesh Tri...           2.0  "
      ]
     },
     "execution_count": 99,
     "metadata": {},
     "output_type": "execute_result"
    }
   ],
   "source": [
    "df_new = pd.merge(df, shopid_duplicates, on = 'listing_details', how='left')\n",
    "df_new.head(9) "
   ]
  },
  {
   "cell_type": "code",
   "execution_count": 105,
   "metadata": {},
   "outputs": [
    {
     "name": "stdout",
     "output_type": "stream",
     "text": [
      "<class 'pandas.core.frame.DataFrame'>\n",
      "RangeIndex: 464433 entries, 0 to 464432\n",
      "Data columns (total 18 columns):\n",
      " #   Column              Non-Null Count   Dtype         \n",
      "---  ------              --------------   -----         \n",
      " 0   itemid              464433 non-null  object        \n",
      " 1   shopid              464433 non-null  object        \n",
      " 2   item_name           464409 non-null  object        \n",
      " 3   item_description    463336 non-null  object        \n",
      " 4   item_variation      464433 non-null  object        \n",
      " 5   price               464433 non-null  float64       \n",
      " 6   stock               464433 non-null  int64         \n",
      " 7   category            464422 non-null  object        \n",
      " 8   cb_option           464433 non-null  object        \n",
      " 9   is_preferred        464433 non-null  object        \n",
      " 10  sold_count          464433 non-null  int64         \n",
      " 11  item_creation_date  464433 non-null  datetime64[ns]\n",
      " 12  year                464433 non-null  object        \n",
      " 13  revenue             464433 non-null  float64       \n",
      " 14  variation_count     464433 non-null  int64         \n",
      " 15  listing_details     464433 non-null  object        \n",
      " 16  shopid_count        266268 non-null  float64       \n",
      " 17  is_duplicated       464433 non-null  bool          \n",
      "dtypes: bool(1), datetime64[ns](1), float64(3), int64(3), object(10)\n",
      "memory usage: 60.7+ MB\n"
     ]
    }
   ],
   "source": [
    "df_new['is_duplicated'] = [True if not pd.isnull(i) else False for i in df_new['shopid_count']]\n",
    "\n",
    "df_new.head(9)\n",
    "df_new.info()"
   ]
  },
  {
   "attachments": {},
   "cell_type": "markdown",
   "metadata": {},
   "source": [
    "## 11. Find duplicate listings that has less than 2 sold count and store the result in a new excel file named “duplicated_listings.xlsx”"
   ]
  },
  {
   "cell_type": "code",
   "execution_count": 106,
   "metadata": {},
   "outputs": [
    {
     "name": "stdout",
     "output_type": "stream",
     "text": [
      "<class 'pandas.core.frame.DataFrame'>\n",
      "Index: 261786 entries, 8 to 464424\n",
      "Data columns (total 18 columns):\n",
      " #   Column              Non-Null Count   Dtype         \n",
      "---  ------              --------------   -----         \n",
      " 0   itemid              261786 non-null  object        \n",
      " 1   shopid              261786 non-null  object        \n",
      " 2   item_name           261786 non-null  object        \n",
      " 3   item_description    261086 non-null  object        \n",
      " 4   item_variation      261786 non-null  object        \n",
      " 5   price               261786 non-null  float64       \n",
      " 6   stock               261786 non-null  int64         \n",
      " 7   category            261781 non-null  object        \n",
      " 8   cb_option           261786 non-null  object        \n",
      " 9   is_preferred        261786 non-null  object        \n",
      " 10  sold_count          261786 non-null  int64         \n",
      " 11  item_creation_date  261786 non-null  datetime64[ns]\n",
      " 12  year                261786 non-null  object        \n",
      " 13  revenue             261786 non-null  float64       \n",
      " 14  variation_count     261786 non-null  int64         \n",
      " 15  listing_details     261786 non-null  object        \n",
      " 16  shopid_count        261786 non-null  float64       \n",
      " 17  is_duplicated       261786 non-null  bool          \n",
      "dtypes: bool(1), datetime64[ns](1), float64(3), int64(3), object(10)\n",
      "memory usage: 36.2+ MB\n"
     ]
    }
   ],
   "source": [
    "duplicated_listing = df_new[(df_new['is_duplicated']==True) & (df_new['sold_count']<2)]\n",
    "duplicated_listing.head()\n",
    "duplicated_listing.info()"
   ]
  },
  {
   "cell_type": "code",
   "execution_count": 75,
   "metadata": {},
   "outputs": [],
   "source": [
    "duplicated_listing.to_excel('../Python/duplicated_listing.xlsx', index=False)"
   ]
  },
  {
   "attachments": {},
   "cell_type": "markdown",
   "metadata": {},
   "source": [
    "## 12. Find the preferred shop shopid that have the most number of duplicated listings"
   ]
  },
  {
   "cell_type": "code",
   "execution_count": 110,
   "metadata": {},
   "outputs": [
    {
     "data": {
      "text/plain": [
       "shopid\n",
       "43384791    2034\n",
       "6072241     1998\n",
       "26974701    1037\n",
       "4498082      887\n",
       "37983742     677\n",
       "8090602      658\n",
       "18173522     633\n",
       "28812867     559\n",
       "12695177     488\n",
       "8715449      463\n",
       "Name: is_duplicated, dtype: int64"
      ]
     },
     "execution_count": 110,
     "metadata": {},
     "output_type": "execute_result"
    }
   ],
   "source": [
    "df_new[df_new['is_preferred']=='1'].groupby(['shopid'])['is_duplicated'].count().sort_values(ascending=False)[0:10]"
   ]
  },
  {
   "cell_type": "code",
   "execution_count": null,
   "metadata": {},
   "outputs": [],
   "source": []
  }
 ],
 "metadata": {
  "kernelspec": {
   "display_name": "Python 3",
   "language": "python",
   "name": "python3"
  },
  "language_info": {
   "codemirror_mode": {
    "name": "ipython",
    "version": 3
   },
   "file_extension": ".py",
   "mimetype": "text/x-python",
   "name": "python",
   "nbconvert_exporter": "python",
   "pygments_lexer": "ipython3",
   "version": "3.11.1"
  },
  "vscode": {
   "interpreter": {
    "hash": "cde6353428e7a073b1d6d536d91e172e1073b5bd6346a7de3228fc18b6e9eafc"
   }
  }
 },
 "nbformat": 4,
 "nbformat_minor": 2
}
