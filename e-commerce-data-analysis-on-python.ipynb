{
 "cells": [
  {
   "cell_type": "markdown",
   "id": "66af9d43",
   "metadata": {
    "papermill": {
     "duration": 0.01252,
     "end_time": "2023-12-12T15:12:15.935542",
     "exception": false,
     "start_time": "2023-12-12T15:12:15.923022",
     "status": "completed"
    },
    "tags": []
   },
   "source": [
    "## Data Analysis with Python Course Project\n",
    "***\n",
    "\n",
    "In this project, you'll be analysing listings data from an e-commerce Platform. \n",
    "\n",
    "The dataset is stored in the `data/project_data.xlsx` file. It contains listing information posted on the platform.\n",
    "\n",
    "One single listing corresponds to one row in the dataset.\n",
    "\n",
    "The dataset has 12 columns, and 464433 rows. \n",
    "\n",
    "Here are the brief descriptions of each column:\n",
    "- `itemid`: a unique ID of the product\n",
    "- `shopid`: a unique ID of the shop\n",
    "- `item_name`: product title  \n",
    "- `item_description`: detailed  product description\n",
    "- `item_variation`: stores variations of a product (e.g. different colours or sizes, in the format like {variation 1 name: variation 1 price, variation 2 name: variation 2 price})\n",
    "- `price`: how much does the item sold\n",
    "- `stock`: how many stocks left \n",
    "- `category`: which category does the product belongs to \n",
    "- `cb_option`: 1 indicates the product is sold by a cross border shop\n",
    "- `is_preferred`: 1 indicates the product is sold by a preferred shop\n",
    "- `sold_count`: how many products have been sold \n",
    "- `item_creation_date`: when are the product uploaded by the seller\n"
   ]
  },
  {
   "cell_type": "code",
   "execution_count": 1,
   "id": "3d69a267",
   "metadata": {
    "execution": {
     "iopub.execute_input": "2023-12-12T15:12:15.960794Z",
     "iopub.status.busy": "2023-12-12T15:12:15.960149Z",
     "iopub.status.idle": "2023-12-12T15:14:39.807868Z",
     "shell.execute_reply": "2023-12-12T15:14:39.806524Z"
    },
    "papermill": {
     "duration": 143.863989,
     "end_time": "2023-12-12T15:14:39.811138",
     "exception": false,
     "start_time": "2023-12-12T15:12:15.947149",
     "status": "completed"
    },
    "tags": []
   },
   "outputs": [],
   "source": [
    "import pandas as pd\n",
    "import numpy as np\n",
    "\n",
    "df = pd.read_excel('/kaggle/input/project-data-e-commerce/project_data.xlsx', \n",
    "                   sheet_name = 'listing_data', \n",
    "                   dtype = {'itemid': str, 'shopid':str,\n",
    "                            'cb_option':str, 'is_preferred':str})"
   ]
  },
  {
   "cell_type": "code",
   "execution_count": 2,
   "id": "f5325b64",
   "metadata": {
    "execution": {
     "iopub.execute_input": "2023-12-12T15:14:39.838213Z",
     "iopub.status.busy": "2023-12-12T15:14:39.837669Z",
     "iopub.status.idle": "2023-12-12T15:14:40.439135Z",
     "shell.execute_reply": "2023-12-12T15:14:40.437985Z"
    },
    "papermill": {
     "duration": 0.617778,
     "end_time": "2023-12-12T15:14:40.441623",
     "exception": false,
     "start_time": "2023-12-12T15:14:39.823845",
     "status": "completed"
    },
    "tags": []
   },
   "outputs": [
    {
     "name": "stdout",
     "output_type": "stream",
     "text": [
      "<class 'pandas.core.frame.DataFrame'>\n",
      "RangeIndex: 464433 entries, 0 to 464432\n",
      "Data columns (total 12 columns):\n",
      " #   Column              Non-Null Count   Dtype         \n",
      "---  ------              --------------   -----         \n",
      " 0   itemid              464433 non-null  object        \n",
      " 1   shopid              464433 non-null  object        \n",
      " 2   item_name           464409 non-null  object        \n",
      " 3   item_description    463336 non-null  object        \n",
      " 4   item_variation      464433 non-null  object        \n",
      " 5   price               464433 non-null  float64       \n",
      " 6   stock               464433 non-null  int64         \n",
      " 7   category            464422 non-null  object        \n",
      " 8   cb_option           464433 non-null  object        \n",
      " 9   is_preferred        464433 non-null  object        \n",
      " 10  sold_count          464433 non-null  int64         \n",
      " 11  item_creation_date  464433 non-null  datetime64[ns]\n",
      "dtypes: datetime64[ns](1), float64(1), int64(2), object(8)\n",
      "memory usage: 42.5+ MB\n"
     ]
    }
   ],
   "source": [
    "df.info()"
   ]
  },
  {
   "cell_type": "code",
   "execution_count": 3,
   "id": "822a80cd",
   "metadata": {
    "execution": {
     "iopub.execute_input": "2023-12-12T15:14:40.470788Z",
     "iopub.status.busy": "2023-12-12T15:14:40.469704Z",
     "iopub.status.idle": "2023-12-12T15:14:40.492263Z",
     "shell.execute_reply": "2023-12-12T15:14:40.491196Z"
    },
    "papermill": {
     "duration": 0.040619,
     "end_time": "2023-12-12T15:14:40.494887",
     "exception": false,
     "start_time": "2023-12-12T15:14:40.454268",
     "status": "completed"
    },
    "tags": []
   },
   "outputs": [
    {
     "data": {
      "text/html": [
       "<div>\n",
       "<style scoped>\n",
       "    .dataframe tbody tr th:only-of-type {\n",
       "        vertical-align: middle;\n",
       "    }\n",
       "\n",
       "    .dataframe tbody tr th {\n",
       "        vertical-align: top;\n",
       "    }\n",
       "\n",
       "    .dataframe thead th {\n",
       "        text-align: right;\n",
       "    }\n",
       "</style>\n",
       "<table border=\"1\" class=\"dataframe\">\n",
       "  <thead>\n",
       "    <tr style=\"text-align: right;\">\n",
       "      <th></th>\n",
       "      <th>itemid</th>\n",
       "      <th>shopid</th>\n",
       "      <th>item_name</th>\n",
       "      <th>item_description</th>\n",
       "      <th>item_variation</th>\n",
       "      <th>price</th>\n",
       "      <th>stock</th>\n",
       "      <th>category</th>\n",
       "      <th>cb_option</th>\n",
       "      <th>is_preferred</th>\n",
       "      <th>sold_count</th>\n",
       "      <th>item_creation_date</th>\n",
       "    </tr>\n",
       "  </thead>\n",
       "  <tbody>\n",
       "    <tr>\n",
       "      <th>0</th>\n",
       "      <td>1925574</td>\n",
       "      <td>210000</td>\n",
       "      <td>Golden mobile numbers</td>\n",
       "      <td>Unregistered prepaid cards1) 93355333  selling...</td>\n",
       "      <td>{}</td>\n",
       "      <td>400.0</td>\n",
       "      <td>1</td>\n",
       "      <td>Mobile &amp; Gadgets</td>\n",
       "      <td>0</td>\n",
       "      <td>0</td>\n",
       "      <td>0</td>\n",
       "      <td>2015-10-01 00:24:42</td>\n",
       "    </tr>\n",
       "    <tr>\n",
       "      <th>1</th>\n",
       "      <td>1925617</td>\n",
       "      <td>210000</td>\n",
       "      <td>Golden mobile numbers</td>\n",
       "      <td>Unregistered prepaid cards1) 93355888  selling...</td>\n",
       "      <td>{}</td>\n",
       "      <td>400.0</td>\n",
       "      <td>1</td>\n",
       "      <td>Mobile &amp; Gadgets</td>\n",
       "      <td>0</td>\n",
       "      <td>0</td>\n",
       "      <td>0</td>\n",
       "      <td>2015-10-01 00:26:37</td>\n",
       "    </tr>\n",
       "    <tr>\n",
       "      <th>2</th>\n",
       "      <td>943600</td>\n",
       "      <td>210000</td>\n",
       "      <td>Golden Mobile Numbers</td>\n",
       "      <td>Unregistered prepaid cards. Can port to post p...</td>\n",
       "      <td>{}</td>\n",
       "      <td>8.0</td>\n",
       "      <td>1</td>\n",
       "      <td>Mobile &amp; Gadgets</td>\n",
       "      <td>0</td>\n",
       "      <td>0</td>\n",
       "      <td>0</td>\n",
       "      <td>2015-08-25 21:02:13</td>\n",
       "    </tr>\n",
       "    <tr>\n",
       "      <th>3</th>\n",
       "      <td>1064405</td>\n",
       "      <td>210000</td>\n",
       "      <td>Golden Mobile Numbers</td>\n",
       "      <td>Unregistered prepaid cards. Can port to post p...</td>\n",
       "      <td>{}</td>\n",
       "      <td>8.0</td>\n",
       "      <td>1</td>\n",
       "      <td>Mobile &amp; Gadgets</td>\n",
       "      <td>0</td>\n",
       "      <td>0</td>\n",
       "      <td>0</td>\n",
       "      <td>2015-08-30 20:16:07</td>\n",
       "    </tr>\n",
       "    <tr>\n",
       "      <th>4</th>\n",
       "      <td>20046620</td>\n",
       "      <td>760000</td>\n",
       "      <td>101% AUTHENTIC BASEBALL CAPS</td>\n",
       "      <td>PREORDER Takes about 23 weeks to arrive, will ...</td>\n",
       "      <td>{NEWERA BLACK: 35.0, NIKE SWOOSH DENIM: 35.0, ...</td>\n",
       "      <td>35.0</td>\n",
       "      <td>300</td>\n",
       "      <td>Women's Apparel</td>\n",
       "      <td>0</td>\n",
       "      <td>0</td>\n",
       "      <td>0</td>\n",
       "      <td>2016-05-09 01:14:34</td>\n",
       "    </tr>\n",
       "  </tbody>\n",
       "</table>\n",
       "</div>"
      ],
      "text/plain": [
       "     itemid  shopid                     item_name  \\\n",
       "0   1925574  210000         Golden mobile numbers   \n",
       "1   1925617  210000         Golden mobile numbers   \n",
       "2    943600  210000         Golden Mobile Numbers   \n",
       "3   1064405  210000         Golden Mobile Numbers   \n",
       "4  20046620  760000  101% AUTHENTIC BASEBALL CAPS   \n",
       "\n",
       "                                    item_description  \\\n",
       "0  Unregistered prepaid cards1) 93355333  selling...   \n",
       "1  Unregistered prepaid cards1) 93355888  selling...   \n",
       "2  Unregistered prepaid cards. Can port to post p...   \n",
       "3  Unregistered prepaid cards. Can port to post p...   \n",
       "4  PREORDER Takes about 23 weeks to arrive, will ...   \n",
       "\n",
       "                                      item_variation  price  stock  \\\n",
       "0                                                 {}  400.0      1   \n",
       "1                                                 {}  400.0      1   \n",
       "2                                                 {}    8.0      1   \n",
       "3                                                 {}    8.0      1   \n",
       "4  {NEWERA BLACK: 35.0, NIKE SWOOSH DENIM: 35.0, ...   35.0    300   \n",
       "\n",
       "           category cb_option is_preferred  sold_count  item_creation_date  \n",
       "0  Mobile & Gadgets         0            0           0 2015-10-01 00:24:42  \n",
       "1  Mobile & Gadgets         0            0           0 2015-10-01 00:26:37  \n",
       "2  Mobile & Gadgets         0            0           0 2015-08-25 21:02:13  \n",
       "3  Mobile & Gadgets         0            0           0 2015-08-30 20:16:07  \n",
       "4   Women's Apparel         0            0           0 2016-05-09 01:14:34  "
      ]
     },
     "execution_count": 3,
     "metadata": {},
     "output_type": "execute_result"
    }
   ],
   "source": [
    "df.head(5)"
   ]
  },
  {
   "cell_type": "markdown",
   "id": "77e5f450",
   "metadata": {
    "papermill": {
     "duration": 0.01313,
     "end_time": "2023-12-12T15:14:40.520817",
     "exception": false,
     "start_time": "2023-12-12T15:14:40.507687",
     "status": "completed"
    },
    "tags": []
   },
   "source": [
    "### Questions"
   ]
  },
  {
   "cell_type": "markdown",
   "id": "c2598bf3",
   "metadata": {
    "papermill": {
     "duration": 0.012449,
     "end_time": "2023-12-12T15:14:40.545596",
     "exception": false,
     "start_time": "2023-12-12T15:14:40.533147",
     "status": "completed"
    },
    "tags": []
   },
   "source": [
    "1. How many unique shops are in the dataset?"
   ]
  },
  {
   "cell_type": "code",
   "execution_count": 4,
   "id": "68f64217",
   "metadata": {
    "execution": {
     "iopub.execute_input": "2023-12-12T15:14:40.572708Z",
     "iopub.status.busy": "2023-12-12T15:14:40.572309Z",
     "iopub.status.idle": "2023-12-12T15:14:40.670235Z",
     "shell.execute_reply": "2023-12-12T15:14:40.669114Z"
    },
    "papermill": {
     "duration": 0.113846,
     "end_time": "2023-12-12T15:14:40.672451",
     "exception": false,
     "start_time": "2023-12-12T15:14:40.558605",
     "status": "completed"
    },
    "tags": []
   },
   "outputs": [
    {
     "data": {
      "text/plain": [
       "7856"
      ]
     },
     "execution_count": 4,
     "metadata": {},
     "output_type": "execute_result"
    }
   ],
   "source": [
    "len(set(df['shopid']))"
   ]
  },
  {
   "cell_type": "code",
   "execution_count": 5,
   "id": "8681315e",
   "metadata": {
    "execution": {
     "iopub.execute_input": "2023-12-12T15:14:40.700174Z",
     "iopub.status.busy": "2023-12-12T15:14:40.699796Z",
     "iopub.status.idle": "2023-12-12T15:14:40.764858Z",
     "shell.execute_reply": "2023-12-12T15:14:40.763812Z"
    },
    "papermill": {
     "duration": 0.081569,
     "end_time": "2023-12-12T15:14:40.767257",
     "exception": false,
     "start_time": "2023-12-12T15:14:40.685688",
     "status": "completed"
    },
    "tags": []
   },
   "outputs": [
    {
     "data": {
      "text/plain": [
       "7856"
      ]
     },
     "execution_count": 5,
     "metadata": {},
     "output_type": "execute_result"
    }
   ],
   "source": [
    "len(df['shopid'].unique())"
   ]
  },
  {
   "cell_type": "markdown",
   "id": "ba0d6c40",
   "metadata": {
    "papermill": {
     "duration": 0.012409,
     "end_time": "2023-12-12T15:14:40.792765",
     "exception": false,
     "start_time": "2023-12-12T15:14:40.780356",
     "status": "completed"
    },
    "tags": []
   },
   "source": [
    "2. How many unique preferred and cross border shops are in the dataset?"
   ]
  },
  {
   "cell_type": "code",
   "execution_count": 6,
   "id": "292b435b",
   "metadata": {
    "execution": {
     "iopub.execute_input": "2023-12-12T15:14:40.819749Z",
     "iopub.status.busy": "2023-12-12T15:14:40.819362Z",
     "iopub.status.idle": "2023-12-12T15:14:41.012503Z",
     "shell.execute_reply": "2023-12-12T15:14:41.011282Z"
    },
    "papermill": {
     "duration": 0.209903,
     "end_time": "2023-12-12T15:14:41.015255",
     "exception": false,
     "start_time": "2023-12-12T15:14:40.805352",
     "status": "completed"
    },
    "tags": []
   },
   "outputs": [
    {
     "data": {
      "text/plain": [
       "158"
      ]
     },
     "execution_count": 6,
     "metadata": {},
     "output_type": "execute_result"
    }
   ],
   "source": [
    "# boolean indexing\n",
    "len(df[(df.cb_option=='1') & (df.is_preferred=='1')]['shopid'].unique())"
   ]
  },
  {
   "cell_type": "code",
   "execution_count": 7,
   "id": "3dc40c3f",
   "metadata": {
    "execution": {
     "iopub.execute_input": "2023-12-12T15:14:41.042800Z",
     "iopub.status.busy": "2023-12-12T15:14:41.042421Z",
     "iopub.status.idle": "2023-12-12T15:14:41.416903Z",
     "shell.execute_reply": "2023-12-12T15:14:41.415707Z"
    },
    "papermill": {
     "duration": 0.391209,
     "end_time": "2023-12-12T15:14:41.419239",
     "exception": false,
     "start_time": "2023-12-12T15:14:41.028030",
     "status": "completed"
    },
    "tags": []
   },
   "outputs": [
    {
     "name": "stdout",
     "output_type": "stream",
     "text": [
      "(array([   947,    948,    949, ..., 463426, 463427, 463428]),)\n"
     ]
    },
    {
     "data": {
      "text/plain": [
       "158"
      ]
     },
     "execution_count": 7,
     "metadata": {},
     "output_type": "execute_result"
    }
   ],
   "source": [
    "# loc + np.where \n",
    "print(np.where((df['cb_option']=='1') & (df['is_preferred']=='1')))\n",
    "\n",
    "len(df.loc[np.where((df['cb_option']=='1') & (df['is_preferred']=='1'))]['shopid'].unique())"
   ]
  },
  {
   "cell_type": "markdown",
   "id": "70553cc3",
   "metadata": {
    "papermill": {
     "duration": 0.013849,
     "end_time": "2023-12-12T15:14:41.446389",
     "exception": false,
     "start_time": "2023-12-12T15:14:41.432540",
     "status": "completed"
    },
    "tags": []
   },
   "source": [
    "3. How many products have zero sold count?"
   ]
  },
  {
   "cell_type": "code",
   "execution_count": 8,
   "id": "091b0fe5",
   "metadata": {
    "execution": {
     "iopub.execute_input": "2023-12-12T15:14:41.482885Z",
     "iopub.status.busy": "2023-12-12T15:14:41.482079Z",
     "iopub.status.idle": "2023-12-12T15:14:41.707674Z",
     "shell.execute_reply": "2023-12-12T15:14:41.706576Z"
    },
    "papermill": {
     "duration": 0.246144,
     "end_time": "2023-12-12T15:14:41.710221",
     "exception": false,
     "start_time": "2023-12-12T15:14:41.464077",
     "status": "completed"
    },
    "tags": []
   },
   "outputs": [
    {
     "data": {
      "text/plain": [
       "438092"
      ]
     },
     "execution_count": 8,
     "metadata": {},
     "output_type": "execute_result"
    }
   ],
   "source": [
    "len(df[(df.sold_count==0)]['itemid'].unique())"
   ]
  },
  {
   "cell_type": "code",
   "execution_count": 9,
   "id": "84054513",
   "metadata": {
    "execution": {
     "iopub.execute_input": "2023-12-12T15:14:41.738833Z",
     "iopub.status.busy": "2023-12-12T15:14:41.738084Z",
     "iopub.status.idle": "2023-12-12T15:14:41.974925Z",
     "shell.execute_reply": "2023-12-12T15:14:41.973790Z"
    },
    "papermill": {
     "duration": 0.25369,
     "end_time": "2023-12-12T15:14:41.977263",
     "exception": false,
     "start_time": "2023-12-12T15:14:41.723573",
     "status": "completed"
    },
    "tags": []
   },
   "outputs": [
    {
     "data": {
      "text/plain": [
       "438092"
      ]
     },
     "execution_count": 9,
     "metadata": {},
     "output_type": "execute_result"
    }
   ],
   "source": [
    "len(df.loc[np.where(df['sold_count']==0)]['itemid'].unique())"
   ]
  },
  {
   "cell_type": "markdown",
   "id": "49d156d8",
   "metadata": {
    "papermill": {
     "duration": 0.012579,
     "end_time": "2023-12-12T15:14:42.002732",
     "exception": false,
     "start_time": "2023-12-12T15:14:41.990153",
     "status": "completed"
    },
    "tags": []
   },
   "source": [
    "4. How many products were created in the year 2018?\n",
    "\n",
    "we can use `strftime()` method to create a string representing the time under the control of an explicit format string.\n",
    "\n",
    "You can refer to the format reference via link: https://strftime.org/"
   ]
  },
  {
   "cell_type": "code",
   "execution_count": 10,
   "id": "94b9d503",
   "metadata": {
    "execution": {
     "iopub.execute_input": "2023-12-12T15:14:42.089399Z",
     "iopub.status.busy": "2023-12-12T15:14:42.088995Z",
     "iopub.status.idle": "2023-12-12T15:14:45.721040Z",
     "shell.execute_reply": "2023-12-12T15:14:45.719972Z"
    },
    "papermill": {
     "duration": 3.707412,
     "end_time": "2023-12-12T15:14:45.723382",
     "exception": false,
     "start_time": "2023-12-12T15:14:42.015970",
     "status": "completed"
    },
    "tags": []
   },
   "outputs": [
    {
     "data": {
      "text/html": [
       "<div>\n",
       "<style scoped>\n",
       "    .dataframe tbody tr th:only-of-type {\n",
       "        vertical-align: middle;\n",
       "    }\n",
       "\n",
       "    .dataframe tbody tr th {\n",
       "        vertical-align: top;\n",
       "    }\n",
       "\n",
       "    .dataframe thead th {\n",
       "        text-align: right;\n",
       "    }\n",
       "</style>\n",
       "<table border=\"1\" class=\"dataframe\">\n",
       "  <thead>\n",
       "    <tr style=\"text-align: right;\">\n",
       "      <th></th>\n",
       "      <th>itemid</th>\n",
       "      <th>shopid</th>\n",
       "      <th>item_name</th>\n",
       "      <th>item_description</th>\n",
       "      <th>item_variation</th>\n",
       "      <th>price</th>\n",
       "      <th>stock</th>\n",
       "      <th>category</th>\n",
       "      <th>cb_option</th>\n",
       "      <th>is_preferred</th>\n",
       "      <th>sold_count</th>\n",
       "      <th>item_creation_date</th>\n",
       "      <th>year</th>\n",
       "    </tr>\n",
       "  </thead>\n",
       "  <tbody>\n",
       "    <tr>\n",
       "      <th>0</th>\n",
       "      <td>1925574</td>\n",
       "      <td>210000</td>\n",
       "      <td>Golden mobile numbers</td>\n",
       "      <td>Unregistered prepaid cards1) 93355333  selling...</td>\n",
       "      <td>{}</td>\n",
       "      <td>400.0</td>\n",
       "      <td>1</td>\n",
       "      <td>Mobile &amp; Gadgets</td>\n",
       "      <td>0</td>\n",
       "      <td>0</td>\n",
       "      <td>0</td>\n",
       "      <td>2015-10-01 00:24:42</td>\n",
       "      <td>2015</td>\n",
       "    </tr>\n",
       "    <tr>\n",
       "      <th>1</th>\n",
       "      <td>1925617</td>\n",
       "      <td>210000</td>\n",
       "      <td>Golden mobile numbers</td>\n",
       "      <td>Unregistered prepaid cards1) 93355888  selling...</td>\n",
       "      <td>{}</td>\n",
       "      <td>400.0</td>\n",
       "      <td>1</td>\n",
       "      <td>Mobile &amp; Gadgets</td>\n",
       "      <td>0</td>\n",
       "      <td>0</td>\n",
       "      <td>0</td>\n",
       "      <td>2015-10-01 00:26:37</td>\n",
       "      <td>2015</td>\n",
       "    </tr>\n",
       "    <tr>\n",
       "      <th>2</th>\n",
       "      <td>943600</td>\n",
       "      <td>210000</td>\n",
       "      <td>Golden Mobile Numbers</td>\n",
       "      <td>Unregistered prepaid cards. Can port to post p...</td>\n",
       "      <td>{}</td>\n",
       "      <td>8.0</td>\n",
       "      <td>1</td>\n",
       "      <td>Mobile &amp; Gadgets</td>\n",
       "      <td>0</td>\n",
       "      <td>0</td>\n",
       "      <td>0</td>\n",
       "      <td>2015-08-25 21:02:13</td>\n",
       "      <td>2015</td>\n",
       "    </tr>\n",
       "    <tr>\n",
       "      <th>3</th>\n",
       "      <td>1064405</td>\n",
       "      <td>210000</td>\n",
       "      <td>Golden Mobile Numbers</td>\n",
       "      <td>Unregistered prepaid cards. Can port to post p...</td>\n",
       "      <td>{}</td>\n",
       "      <td>8.0</td>\n",
       "      <td>1</td>\n",
       "      <td>Mobile &amp; Gadgets</td>\n",
       "      <td>0</td>\n",
       "      <td>0</td>\n",
       "      <td>0</td>\n",
       "      <td>2015-08-30 20:16:07</td>\n",
       "      <td>2015</td>\n",
       "    </tr>\n",
       "    <tr>\n",
       "      <th>4</th>\n",
       "      <td>20046620</td>\n",
       "      <td>760000</td>\n",
       "      <td>101% AUTHENTIC BASEBALL CAPS</td>\n",
       "      <td>PREORDER Takes about 23 weeks to arrive, will ...</td>\n",
       "      <td>{NEWERA BLACK: 35.0, NIKE SWOOSH DENIM: 35.0, ...</td>\n",
       "      <td>35.0</td>\n",
       "      <td>300</td>\n",
       "      <td>Women's Apparel</td>\n",
       "      <td>0</td>\n",
       "      <td>0</td>\n",
       "      <td>0</td>\n",
       "      <td>2016-05-09 01:14:34</td>\n",
       "      <td>2016</td>\n",
       "    </tr>\n",
       "  </tbody>\n",
       "</table>\n",
       "</div>"
      ],
      "text/plain": [
       "     itemid  shopid                     item_name  \\\n",
       "0   1925574  210000         Golden mobile numbers   \n",
       "1   1925617  210000         Golden mobile numbers   \n",
       "2    943600  210000         Golden Mobile Numbers   \n",
       "3   1064405  210000         Golden Mobile Numbers   \n",
       "4  20046620  760000  101% AUTHENTIC BASEBALL CAPS   \n",
       "\n",
       "                                    item_description  \\\n",
       "0  Unregistered prepaid cards1) 93355333  selling...   \n",
       "1  Unregistered prepaid cards1) 93355888  selling...   \n",
       "2  Unregistered prepaid cards. Can port to post p...   \n",
       "3  Unregistered prepaid cards. Can port to post p...   \n",
       "4  PREORDER Takes about 23 weeks to arrive, will ...   \n",
       "\n",
       "                                      item_variation  price  stock  \\\n",
       "0                                                 {}  400.0      1   \n",
       "1                                                 {}  400.0      1   \n",
       "2                                                 {}    8.0      1   \n",
       "3                                                 {}    8.0      1   \n",
       "4  {NEWERA BLACK: 35.0, NIKE SWOOSH DENIM: 35.0, ...   35.0    300   \n",
       "\n",
       "           category cb_option is_preferred  sold_count  item_creation_date  \\\n",
       "0  Mobile & Gadgets         0            0           0 2015-10-01 00:24:42   \n",
       "1  Mobile & Gadgets         0            0           0 2015-10-01 00:26:37   \n",
       "2  Mobile & Gadgets         0            0           0 2015-08-25 21:02:13   \n",
       "3  Mobile & Gadgets         0            0           0 2015-08-30 20:16:07   \n",
       "4   Women's Apparel         0            0           0 2016-05-09 01:14:34   \n",
       "\n",
       "   year  \n",
       "0  2015  \n",
       "1  2015  \n",
       "2  2015  \n",
       "3  2015  \n",
       "4  2016  "
      ]
     },
     "execution_count": 10,
     "metadata": {},
     "output_type": "execute_result"
    }
   ],
   "source": [
    "from datetime import datetime\n",
    "\n",
    "df['year'] = [i.strftime(\"%Y\") for i in df['item_creation_date']]\n",
    "\n",
    "df.head(5)"
   ]
  },
  {
   "cell_type": "code",
   "execution_count": 11,
   "id": "f800ed8a",
   "metadata": {
    "execution": {
     "iopub.execute_input": "2023-12-12T15:14:45.754050Z",
     "iopub.status.busy": "2023-12-12T15:14:45.752855Z",
     "iopub.status.idle": "2023-12-12T15:14:45.953905Z",
     "shell.execute_reply": "2023-12-12T15:14:45.952744Z"
    },
    "papermill": {
     "duration": 0.218939,
     "end_time": "2023-12-12T15:14:45.956455",
     "exception": false,
     "start_time": "2023-12-12T15:14:45.737516",
     "status": "completed"
    },
    "tags": []
   },
   "outputs": [
    {
     "data": {
      "text/plain": [
       "177407"
      ]
     },
     "execution_count": 11,
     "metadata": {},
     "output_type": "execute_result"
    }
   ],
   "source": [
    "len(df[(df.year=='2018')]['itemid'].unique())"
   ]
  },
  {
   "cell_type": "markdown",
   "id": "bf9f7b5e",
   "metadata": {
    "papermill": {
     "duration": 0.013376,
     "end_time": "2023-12-12T15:14:45.983518",
     "exception": false,
     "start_time": "2023-12-12T15:14:45.970142",
     "status": "completed"
    },
    "tags": []
   },
   "source": [
    "5. Show Top 3 Preferred shops’ shopid that have the largest number of unique products"
   ]
  },
  {
   "cell_type": "code",
   "execution_count": 12,
   "id": "682a0792",
   "metadata": {
    "execution": {
     "iopub.execute_input": "2023-12-12T15:14:46.012260Z",
     "iopub.status.busy": "2023-12-12T15:14:46.011883Z",
     "iopub.status.idle": "2023-12-12T15:14:46.122868Z",
     "shell.execute_reply": "2023-12-12T15:14:46.121800Z"
    },
    "papermill": {
     "duration": 0.128149,
     "end_time": "2023-12-12T15:14:46.125235",
     "exception": false,
     "start_time": "2023-12-12T15:14:45.997086",
     "status": "completed"
    },
    "tags": []
   },
   "outputs": [
    {
     "data": {
      "text/plain": [
       "shopid\n",
       "43384791    2034\n",
       "6072241     1998\n",
       "26974701    1037\n",
       "Name: itemid, dtype: int64"
      ]
     },
     "execution_count": 12,
     "metadata": {},
     "output_type": "execute_result"
    }
   ],
   "source": [
    "# firstly, filter to preferred shops , ie. is_preferred == 1\n",
    "# secondly, groupby category, and apply nunique/count functions\n",
    "# thirdly, sort value in descending order\n",
    "# finally, get the top 3 values using index\n",
    "df[df['is_preferred']=='1'].groupby(['shopid'])['itemid'].count().sort_values(ascending = False)[0:3]"
   ]
  },
  {
   "cell_type": "markdown",
   "id": "28e7bce7",
   "metadata": {
    "papermill": {
     "duration": 0.013088,
     "end_time": "2023-12-12T15:14:46.151819",
     "exception": false,
     "start_time": "2023-12-12T15:14:46.138731",
     "status": "completed"
    },
    "tags": []
   },
   "source": [
    "6. Show Top 3 Categories that have the largest number of unique cross-border products"
   ]
  },
  {
   "cell_type": "code",
   "execution_count": 13,
   "id": "f475d19a",
   "metadata": {
    "execution": {
     "iopub.execute_input": "2023-12-12T15:14:46.180536Z",
     "iopub.status.busy": "2023-12-12T15:14:46.179853Z",
     "iopub.status.idle": "2023-12-12T15:14:46.502654Z",
     "shell.execute_reply": "2023-12-12T15:14:46.501519Z"
    },
    "papermill": {
     "duration": 0.340278,
     "end_time": "2023-12-12T15:14:46.505115",
     "exception": false,
     "start_time": "2023-12-12T15:14:46.164837",
     "status": "completed"
    },
    "tags": []
   },
   "outputs": [
    {
     "data": {
      "text/plain": [
       "category\n",
       "Women's Apparel     80494\n",
       "Mobile & Gadgets    58760\n",
       "Men's Wear          51795\n",
       "Name: itemid, dtype: int64"
      ]
     },
     "execution_count": 13,
     "metadata": {},
     "output_type": "execute_result"
    }
   ],
   "source": [
    "# firstly, filter to cross-border products , ie. cb_option == 1\n",
    "# secondly, groupby category, and apply nunique/count functions\n",
    "# thirdly, sort value in descending order\n",
    "# finally, get the top 3 values using index\n",
    "df[df['cb_option']=='1'].groupby(['category'])['itemid'].count().sort_values(ascending = False)[0:3]"
   ]
  },
  {
   "cell_type": "markdown",
   "id": "fae5a56e",
   "metadata": {
    "papermill": {
     "duration": 0.014204,
     "end_time": "2023-12-12T15:14:46.533940",
     "exception": false,
     "start_time": "2023-12-12T15:14:46.519736",
     "status": "completed"
    },
    "tags": []
   },
   "source": [
    "7. Find Top 3 shopid with the highest revenue (Assumption: the product price has not been changed.)"
   ]
  },
  {
   "cell_type": "code",
   "execution_count": 14,
   "id": "a028cd10",
   "metadata": {
    "execution": {
     "iopub.execute_input": "2023-12-12T15:14:46.563704Z",
     "iopub.status.busy": "2023-12-12T15:14:46.563276Z",
     "iopub.status.idle": "2023-12-12T15:14:46.584237Z",
     "shell.execute_reply": "2023-12-12T15:14:46.583541Z"
    },
    "papermill": {
     "duration": 0.038349,
     "end_time": "2023-12-12T15:14:46.586306",
     "exception": false,
     "start_time": "2023-12-12T15:14:46.547957",
     "status": "completed"
    },
    "tags": []
   },
   "outputs": [
    {
     "data": {
      "text/html": [
       "<div>\n",
       "<style scoped>\n",
       "    .dataframe tbody tr th:only-of-type {\n",
       "        vertical-align: middle;\n",
       "    }\n",
       "\n",
       "    .dataframe tbody tr th {\n",
       "        vertical-align: top;\n",
       "    }\n",
       "\n",
       "    .dataframe thead th {\n",
       "        text-align: right;\n",
       "    }\n",
       "</style>\n",
       "<table border=\"1\" class=\"dataframe\">\n",
       "  <thead>\n",
       "    <tr style=\"text-align: right;\">\n",
       "      <th></th>\n",
       "      <th>itemid</th>\n",
       "      <th>shopid</th>\n",
       "      <th>item_name</th>\n",
       "      <th>item_description</th>\n",
       "      <th>item_variation</th>\n",
       "      <th>price</th>\n",
       "      <th>stock</th>\n",
       "      <th>category</th>\n",
       "      <th>cb_option</th>\n",
       "      <th>is_preferred</th>\n",
       "      <th>sold_count</th>\n",
       "      <th>item_creation_date</th>\n",
       "      <th>year</th>\n",
       "      <th>revenue</th>\n",
       "    </tr>\n",
       "  </thead>\n",
       "  <tbody>\n",
       "    <tr>\n",
       "      <th>464428</th>\n",
       "      <td>517929442</td>\n",
       "      <td>13744999</td>\n",
       "      <td>Women Back Brest Dress Package Hips Dress</td>\n",
       "      <td>Type: Dress Gender: Womens Size Type: Regular ...</td>\n",
       "      <td>{White S: 8.3, Black XL: 8.3, White XL: 8.3, B...</td>\n",
       "      <td>8.3</td>\n",
       "      <td>0</td>\n",
       "      <td>Women's Apparel</td>\n",
       "      <td>1</td>\n",
       "      <td>0</td>\n",
       "      <td>0</td>\n",
       "      <td>2017-09-24 18:42:46</td>\n",
       "      <td>2017</td>\n",
       "      <td>0.0</td>\n",
       "    </tr>\n",
       "    <tr>\n",
       "      <th>464429</th>\n",
       "      <td>490461243</td>\n",
       "      <td>13744999</td>\n",
       "      <td>Heart Alloy Pendant Necklace for women</td>\n",
       "      <td>Gender: For Women Item Type: Pendant Necklaces...</td>\n",
       "      <td>{}</td>\n",
       "      <td>0.6</td>\n",
       "      <td>0</td>\n",
       "      <td>Jewellery &amp; Accessories</td>\n",
       "      <td>1</td>\n",
       "      <td>0</td>\n",
       "      <td>0</td>\n",
       "      <td>2017-09-15 21:10:15</td>\n",
       "      <td>2017</td>\n",
       "      <td>0.0</td>\n",
       "    </tr>\n",
       "    <tr>\n",
       "      <th>464430</th>\n",
       "      <td>494272761</td>\n",
       "      <td>13744999</td>\n",
       "      <td>Heart Alloy Pendant Necklace for women</td>\n",
       "      <td>Gender: For Women Item Type: Pendant Necklaces...</td>\n",
       "      <td>{}</td>\n",
       "      <td>3.0</td>\n",
       "      <td>0</td>\n",
       "      <td>Jewellery &amp; Accessories</td>\n",
       "      <td>1</td>\n",
       "      <td>0</td>\n",
       "      <td>0</td>\n",
       "      <td>2017-09-17 09:07:06</td>\n",
       "      <td>2017</td>\n",
       "      <td>0.0</td>\n",
       "    </tr>\n",
       "    <tr>\n",
       "      <th>464431</th>\n",
       "      <td>259494170</td>\n",
       "      <td>13744999</td>\n",
       "      <td>Women Mid Elastic Waist Straight Shorts</td>\n",
       "      <td>Style: Active Length: Mini Material: Nylon,Pol...</td>\n",
       "      <td>{Purple: 2.0, Rose: 2.0, Sapphire blue: 3.0, B...</td>\n",
       "      <td>2.0</td>\n",
       "      <td>0</td>\n",
       "      <td>Women's Apparel</td>\n",
       "      <td>1</td>\n",
       "      <td>0</td>\n",
       "      <td>1</td>\n",
       "      <td>2017-05-14 11:46:53</td>\n",
       "      <td>2017</td>\n",
       "      <td>2.0</td>\n",
       "    </tr>\n",
       "    <tr>\n",
       "      <th>464432</th>\n",
       "      <td>314558812</td>\n",
       "      <td>13744999</td>\n",
       "      <td>Women Mid Elastic Waist Straight Shorts</td>\n",
       "      <td>Style: Active Length: Mini Material: Nylon,Pol...</td>\n",
       "      <td>{Purple: 4.0, Rose: 4.0, Sapphire blue: 4.0, B...</td>\n",
       "      <td>4.0</td>\n",
       "      <td>0</td>\n",
       "      <td>Women's Apparel</td>\n",
       "      <td>1</td>\n",
       "      <td>0</td>\n",
       "      <td>0</td>\n",
       "      <td>2017-06-20 21:48:26</td>\n",
       "      <td>2017</td>\n",
       "      <td>0.0</td>\n",
       "    </tr>\n",
       "  </tbody>\n",
       "</table>\n",
       "</div>"
      ],
      "text/plain": [
       "           itemid    shopid                                  item_name  \\\n",
       "464428  517929442  13744999  Women Back Brest Dress Package Hips Dress   \n",
       "464429  490461243  13744999     Heart Alloy Pendant Necklace for women   \n",
       "464430  494272761  13744999     Heart Alloy Pendant Necklace for women   \n",
       "464431  259494170  13744999    Women Mid Elastic Waist Straight Shorts   \n",
       "464432  314558812  13744999    Women Mid Elastic Waist Straight Shorts   \n",
       "\n",
       "                                         item_description  \\\n",
       "464428  Type: Dress Gender: Womens Size Type: Regular ...   \n",
       "464429  Gender: For Women Item Type: Pendant Necklaces...   \n",
       "464430  Gender: For Women Item Type: Pendant Necklaces...   \n",
       "464431  Style: Active Length: Mini Material: Nylon,Pol...   \n",
       "464432  Style: Active Length: Mini Material: Nylon,Pol...   \n",
       "\n",
       "                                           item_variation  price  stock  \\\n",
       "464428  {White S: 8.3, Black XL: 8.3, White XL: 8.3, B...    8.3      0   \n",
       "464429                                                 {}    0.6      0   \n",
       "464430                                                 {}    3.0      0   \n",
       "464431  {Purple: 2.0, Rose: 2.0, Sapphire blue: 3.0, B...    2.0      0   \n",
       "464432  {Purple: 4.0, Rose: 4.0, Sapphire blue: 4.0, B...    4.0      0   \n",
       "\n",
       "                       category cb_option is_preferred  sold_count  \\\n",
       "464428          Women's Apparel         1            0           0   \n",
       "464429  Jewellery & Accessories         1            0           0   \n",
       "464430  Jewellery & Accessories         1            0           0   \n",
       "464431          Women's Apparel         1            0           1   \n",
       "464432          Women's Apparel         1            0           0   \n",
       "\n",
       "        item_creation_date  year  revenue  \n",
       "464428 2017-09-24 18:42:46  2017      0.0  \n",
       "464429 2017-09-15 21:10:15  2017      0.0  \n",
       "464430 2017-09-17 09:07:06  2017      0.0  \n",
       "464431 2017-05-14 11:46:53  2017      2.0  \n",
       "464432 2017-06-20 21:48:26  2017      0.0  "
      ]
     },
     "execution_count": 14,
     "metadata": {},
     "output_type": "execute_result"
    }
   ],
   "source": [
    "df['revenue'] = df['price']*df['sold_count']\n",
    "\n",
    "df.tail(5)"
   ]
  },
  {
   "cell_type": "code",
   "execution_count": 15,
   "id": "b94579a4",
   "metadata": {
    "execution": {
     "iopub.execute_input": "2023-12-12T15:14:46.618023Z",
     "iopub.status.busy": "2023-12-12T15:14:46.617113Z",
     "iopub.status.idle": "2023-12-12T15:14:46.705783Z",
     "shell.execute_reply": "2023-12-12T15:14:46.704707Z"
    },
    "papermill": {
     "duration": 0.107164,
     "end_time": "2023-12-12T15:14:46.708184",
     "exception": false,
     "start_time": "2023-12-12T15:14:46.601020",
     "status": "completed"
    },
    "tags": []
   },
   "outputs": [
    {
     "data": {
      "text/plain": [
       "shopid\n",
       "18796234    177897.79\n",
       "30769353     63491.39\n",
       "30628794     39852.00\n",
       "Name: revenue, dtype: float64"
      ]
     },
     "execution_count": 15,
     "metadata": {},
     "output_type": "execute_result"
    }
   ],
   "source": [
    "df.groupby(['shopid'])['revenue'].sum().sort_values(ascending = False)[0:3]"
   ]
  },
  {
   "cell_type": "markdown",
   "id": "d312461c",
   "metadata": {
    "papermill": {
     "duration": 0.014537,
     "end_time": "2023-12-12T15:14:46.738123",
     "exception": false,
     "start_time": "2023-12-12T15:14:46.723586",
     "status": "completed"
    },
    "tags": []
   },
   "source": [
    "8. Find number of products that have more than 3 variations (do not include products with 3 or fewer variations)"
   ]
  },
  {
   "cell_type": "code",
   "execution_count": 16,
   "id": "84c9e968",
   "metadata": {
    "execution": {
     "iopub.execute_input": "2023-12-12T15:14:46.769732Z",
     "iopub.status.busy": "2023-12-12T15:14:46.769366Z",
     "iopub.status.idle": "2023-12-12T15:14:47.218610Z",
     "shell.execute_reply": "2023-12-12T15:14:47.217530Z"
    },
    "papermill": {
     "duration": 0.468033,
     "end_time": "2023-12-12T15:14:47.221054",
     "exception": false,
     "start_time": "2023-12-12T15:14:46.753021",
     "status": "completed"
    },
    "tags": []
   },
   "outputs": [
    {
     "data": {
      "text/html": [
       "<div>\n",
       "<style scoped>\n",
       "    .dataframe tbody tr th:only-of-type {\n",
       "        vertical-align: middle;\n",
       "    }\n",
       "\n",
       "    .dataframe tbody tr th {\n",
       "        vertical-align: top;\n",
       "    }\n",
       "\n",
       "    .dataframe thead th {\n",
       "        text-align: right;\n",
       "    }\n",
       "</style>\n",
       "<table border=\"1\" class=\"dataframe\">\n",
       "  <thead>\n",
       "    <tr style=\"text-align: right;\">\n",
       "      <th></th>\n",
       "      <th>item_variation</th>\n",
       "      <th>variation_count</th>\n",
       "    </tr>\n",
       "  </thead>\n",
       "  <tbody>\n",
       "    <tr>\n",
       "      <th>0</th>\n",
       "      <td>{}</td>\n",
       "      <td>0</td>\n",
       "    </tr>\n",
       "    <tr>\n",
       "      <th>1</th>\n",
       "      <td>{}</td>\n",
       "      <td>0</td>\n",
       "    </tr>\n",
       "    <tr>\n",
       "      <th>2</th>\n",
       "      <td>{}</td>\n",
       "      <td>0</td>\n",
       "    </tr>\n",
       "    <tr>\n",
       "      <th>3</th>\n",
       "      <td>{}</td>\n",
       "      <td>0</td>\n",
       "    </tr>\n",
       "    <tr>\n",
       "      <th>4</th>\n",
       "      <td>{NEWERA BLACK: 35.0, NIKE SWOOSH DENIM: 35.0, ...</td>\n",
       "      <td>6</td>\n",
       "    </tr>\n",
       "    <tr>\n",
       "      <th>5</th>\n",
       "      <td>{NIKE SWOOSH DENIM: 35.0, NIKE SWOOSH BLACK: 3...</td>\n",
       "      <td>6</td>\n",
       "    </tr>\n",
       "    <tr>\n",
       "      <th>6</th>\n",
       "      <td>{Hydratg UV: 28.72, Super Hydg: 28.72, Whiteni...</td>\n",
       "      <td>3</td>\n",
       "    </tr>\n",
       "    <tr>\n",
       "      <th>7</th>\n",
       "      <td>{}</td>\n",
       "      <td>0</td>\n",
       "    </tr>\n",
       "    <tr>\n",
       "      <th>8</th>\n",
       "      <td>{S: 9.98, M: 9.98, L: 9.98, XL: 9.98}</td>\n",
       "      <td>4</td>\n",
       "    </tr>\n",
       "    <tr>\n",
       "      <th>9</th>\n",
       "      <td>{S: 9.98, M: 9.98, L: 9.98}</td>\n",
       "      <td>3</td>\n",
       "    </tr>\n",
       "  </tbody>\n",
       "</table>\n",
       "</div>"
      ],
      "text/plain": [
       "                                      item_variation  variation_count\n",
       "0                                                 {}                0\n",
       "1                                                 {}                0\n",
       "2                                                 {}                0\n",
       "3                                                 {}                0\n",
       "4  {NEWERA BLACK: 35.0, NIKE SWOOSH DENIM: 35.0, ...                6\n",
       "5  {NIKE SWOOSH DENIM: 35.0, NIKE SWOOSH BLACK: 3...                6\n",
       "6  {Hydratg UV: 28.72, Super Hydg: 28.72, Whiteni...                3\n",
       "7                                                 {}                0\n",
       "8              {S: 9.98, M: 9.98, L: 9.98, XL: 9.98}                4\n",
       "9                        {S: 9.98, M: 9.98, L: 9.98}                3"
      ]
     },
     "execution_count": 16,
     "metadata": {},
     "output_type": "execute_result"
    }
   ],
   "source": [
    "df['variation_count']= [i.count(':') for i in df['item_variation']]\n",
    "\n",
    "df[['item_variation','variation_count']].head(10)"
   ]
  },
  {
   "cell_type": "code",
   "execution_count": 17,
   "id": "9dfed506",
   "metadata": {
    "execution": {
     "iopub.execute_input": "2023-12-12T15:14:47.253518Z",
     "iopub.status.busy": "2023-12-12T15:14:47.252570Z",
     "iopub.status.idle": "2023-12-12T15:14:47.365059Z",
     "shell.execute_reply": "2023-12-12T15:14:47.363863Z"
    },
    "papermill": {
     "duration": 0.131191,
     "end_time": "2023-12-12T15:14:47.367667",
     "exception": false,
     "start_time": "2023-12-12T15:14:47.236476",
     "status": "completed"
    },
    "tags": []
   },
   "outputs": [
    {
     "data": {
      "text/plain": [
       "242150"
      ]
     },
     "execution_count": 17,
     "metadata": {},
     "output_type": "execute_result"
    }
   ],
   "source": [
    "df[df['variation_count']>3]['itemid'].count()"
   ]
  },
  {
   "cell_type": "markdown",
   "id": "59637d67",
   "metadata": {
    "papermill": {
     "duration": 0.014935,
     "end_time": "2023-12-12T15:14:47.398268",
     "exception": false,
     "start_time": "2023-12-12T15:14:47.383333",
     "status": "completed"
    },
    "tags": []
   },
   "source": [
    "9. Identify duplicated listings within each shop (If listing A and B in shop S have the exactly same product title, product detailed description, and price, both listing A and B are considered as duplicated listings)"
   ]
  },
  {
   "cell_type": "code",
   "execution_count": 18,
   "id": "2a21cb20",
   "metadata": {
    "execution": {
     "iopub.execute_input": "2023-12-12T15:14:47.429980Z",
     "iopub.status.busy": "2023-12-12T15:14:47.429263Z",
     "iopub.status.idle": "2023-12-12T15:14:48.726603Z",
     "shell.execute_reply": "2023-12-12T15:14:48.725378Z"
    },
    "papermill": {
     "duration": 1.316304,
     "end_time": "2023-12-12T15:14:48.729196",
     "exception": false,
     "start_time": "2023-12-12T15:14:47.412892",
     "status": "completed"
    },
    "tags": []
   },
   "outputs": [
    {
     "data": {
      "text/html": [
       "<div>\n",
       "<style scoped>\n",
       "    .dataframe tbody tr th:only-of-type {\n",
       "        vertical-align: middle;\n",
       "    }\n",
       "\n",
       "    .dataframe tbody tr th {\n",
       "        vertical-align: top;\n",
       "    }\n",
       "\n",
       "    .dataframe thead th {\n",
       "        text-align: right;\n",
       "    }\n",
       "</style>\n",
       "<table border=\"1\" class=\"dataframe\">\n",
       "  <thead>\n",
       "    <tr style=\"text-align: right;\">\n",
       "      <th></th>\n",
       "      <th>itemid</th>\n",
       "      <th>shopid</th>\n",
       "      <th>item_name</th>\n",
       "      <th>item_description</th>\n",
       "      <th>item_variation</th>\n",
       "      <th>price</th>\n",
       "      <th>stock</th>\n",
       "      <th>category</th>\n",
       "      <th>cb_option</th>\n",
       "      <th>is_preferred</th>\n",
       "      <th>sold_count</th>\n",
       "      <th>item_creation_date</th>\n",
       "      <th>year</th>\n",
       "      <th>revenue</th>\n",
       "      <th>variation_count</th>\n",
       "      <th>listing_details</th>\n",
       "    </tr>\n",
       "  </thead>\n",
       "  <tbody>\n",
       "    <tr>\n",
       "      <th>0</th>\n",
       "      <td>1925574</td>\n",
       "      <td>210000</td>\n",
       "      <td>Golden mobile numbers</td>\n",
       "      <td>Unregistered prepaid cards1) 93355333  selling...</td>\n",
       "      <td>{}</td>\n",
       "      <td>400.0</td>\n",
       "      <td>1</td>\n",
       "      <td>Mobile &amp; Gadgets</td>\n",
       "      <td>0</td>\n",
       "      <td>0</td>\n",
       "      <td>0</td>\n",
       "      <td>2015-10-01 00:24:42</td>\n",
       "      <td>2015</td>\n",
       "      <td>0.0</td>\n",
       "      <td>0</td>\n",
       "      <td>Golden mobile numbersUnregistered prepaid card...</td>\n",
       "    </tr>\n",
       "    <tr>\n",
       "      <th>1</th>\n",
       "      <td>1925617</td>\n",
       "      <td>210000</td>\n",
       "      <td>Golden mobile numbers</td>\n",
       "      <td>Unregistered prepaid cards1) 93355888  selling...</td>\n",
       "      <td>{}</td>\n",
       "      <td>400.0</td>\n",
       "      <td>1</td>\n",
       "      <td>Mobile &amp; Gadgets</td>\n",
       "      <td>0</td>\n",
       "      <td>0</td>\n",
       "      <td>0</td>\n",
       "      <td>2015-10-01 00:26:37</td>\n",
       "      <td>2015</td>\n",
       "      <td>0.0</td>\n",
       "      <td>0</td>\n",
       "      <td>Golden mobile numbersUnregistered prepaid card...</td>\n",
       "    </tr>\n",
       "    <tr>\n",
       "      <th>2</th>\n",
       "      <td>943600</td>\n",
       "      <td>210000</td>\n",
       "      <td>Golden Mobile Numbers</td>\n",
       "      <td>Unregistered prepaid cards. Can port to post p...</td>\n",
       "      <td>{}</td>\n",
       "      <td>8.0</td>\n",
       "      <td>1</td>\n",
       "      <td>Mobile &amp; Gadgets</td>\n",
       "      <td>0</td>\n",
       "      <td>0</td>\n",
       "      <td>0</td>\n",
       "      <td>2015-08-25 21:02:13</td>\n",
       "      <td>2015</td>\n",
       "      <td>0.0</td>\n",
       "      <td>0</td>\n",
       "      <td>Golden Mobile NumbersUnregistered prepaid card...</td>\n",
       "    </tr>\n",
       "    <tr>\n",
       "      <th>3</th>\n",
       "      <td>1064405</td>\n",
       "      <td>210000</td>\n",
       "      <td>Golden Mobile Numbers</td>\n",
       "      <td>Unregistered prepaid cards. Can port to post p...</td>\n",
       "      <td>{}</td>\n",
       "      <td>8.0</td>\n",
       "      <td>1</td>\n",
       "      <td>Mobile &amp; Gadgets</td>\n",
       "      <td>0</td>\n",
       "      <td>0</td>\n",
       "      <td>0</td>\n",
       "      <td>2015-08-30 20:16:07</td>\n",
       "      <td>2015</td>\n",
       "      <td>0.0</td>\n",
       "      <td>0</td>\n",
       "      <td>Golden Mobile NumbersUnregistered prepaid card...</td>\n",
       "    </tr>\n",
       "    <tr>\n",
       "      <th>4</th>\n",
       "      <td>20046620</td>\n",
       "      <td>760000</td>\n",
       "      <td>101% AUTHENTIC BASEBALL CAPS</td>\n",
       "      <td>PREORDER Takes about 23 weeks to arrive, will ...</td>\n",
       "      <td>{NEWERA BLACK: 35.0, NIKE SWOOSH DENIM: 35.0, ...</td>\n",
       "      <td>35.0</td>\n",
       "      <td>300</td>\n",
       "      <td>Women's Apparel</td>\n",
       "      <td>0</td>\n",
       "      <td>0</td>\n",
       "      <td>0</td>\n",
       "      <td>2016-05-09 01:14:34</td>\n",
       "      <td>2016</td>\n",
       "      <td>0.0</td>\n",
       "      <td>6</td>\n",
       "      <td>101% AUTHENTIC BASEBALL CAPSPREORDER Takes abo...</td>\n",
       "    </tr>\n",
       "  </tbody>\n",
       "</table>\n",
       "</div>"
      ],
      "text/plain": [
       "     itemid  shopid                     item_name  \\\n",
       "0   1925574  210000         Golden mobile numbers   \n",
       "1   1925617  210000         Golden mobile numbers   \n",
       "2    943600  210000         Golden Mobile Numbers   \n",
       "3   1064405  210000         Golden Mobile Numbers   \n",
       "4  20046620  760000  101% AUTHENTIC BASEBALL CAPS   \n",
       "\n",
       "                                    item_description  \\\n",
       "0  Unregistered prepaid cards1) 93355333  selling...   \n",
       "1  Unregistered prepaid cards1) 93355888  selling...   \n",
       "2  Unregistered prepaid cards. Can port to post p...   \n",
       "3  Unregistered prepaid cards. Can port to post p...   \n",
       "4  PREORDER Takes about 23 weeks to arrive, will ...   \n",
       "\n",
       "                                      item_variation  price  stock  \\\n",
       "0                                                 {}  400.0      1   \n",
       "1                                                 {}  400.0      1   \n",
       "2                                                 {}    8.0      1   \n",
       "3                                                 {}    8.0      1   \n",
       "4  {NEWERA BLACK: 35.0, NIKE SWOOSH DENIM: 35.0, ...   35.0    300   \n",
       "\n",
       "           category cb_option is_preferred  sold_count  item_creation_date  \\\n",
       "0  Mobile & Gadgets         0            0           0 2015-10-01 00:24:42   \n",
       "1  Mobile & Gadgets         0            0           0 2015-10-01 00:26:37   \n",
       "2  Mobile & Gadgets         0            0           0 2015-08-25 21:02:13   \n",
       "3  Mobile & Gadgets         0            0           0 2015-08-30 20:16:07   \n",
       "4   Women's Apparel         0            0           0 2016-05-09 01:14:34   \n",
       "\n",
       "   year  revenue  variation_count  \\\n",
       "0  2015      0.0                0   \n",
       "1  2015      0.0                0   \n",
       "2  2015      0.0                0   \n",
       "3  2015      0.0                0   \n",
       "4  2016      0.0                6   \n",
       "\n",
       "                                     listing_details  \n",
       "0  Golden mobile numbersUnregistered prepaid card...  \n",
       "1  Golden mobile numbersUnregistered prepaid card...  \n",
       "2  Golden Mobile NumbersUnregistered prepaid card...  \n",
       "3  Golden Mobile NumbersUnregistered prepaid card...  \n",
       "4  101% AUTHENTIC BASEBALL CAPSPREORDER Takes abo...  "
      ]
     },
     "execution_count": 18,
     "metadata": {},
     "output_type": "execute_result"
    }
   ],
   "source": [
    "# we concatenate the product title, product detailed description and price into a new column called \"listing details\"\n",
    "df['listing_details']= df['item_name'].astype(str) + df['item_description'].astype(str) + df['price'].astype(str)\n",
    "\n",
    "df.head(5)"
   ]
  },
  {
   "cell_type": "code",
   "execution_count": 19,
   "id": "33051717",
   "metadata": {
    "execution": {
     "iopub.execute_input": "2023-12-12T15:14:48.763076Z",
     "iopub.status.busy": "2023-12-12T15:14:48.762690Z",
     "iopub.status.idle": "2023-12-12T15:14:50.492852Z",
     "shell.execute_reply": "2023-12-12T15:14:50.491861Z"
    },
    "papermill": {
     "duration": 1.750092,
     "end_time": "2023-12-12T15:14:50.495570",
     "exception": false,
     "start_time": "2023-12-12T15:14:48.745478",
     "status": "completed"
    },
    "tags": []
   },
   "outputs": [],
   "source": [
    "shopid_listing_count = df.groupby(['listing_details'])['shopid'].count().reset_index()"
   ]
  },
  {
   "cell_type": "code",
   "execution_count": 20,
   "id": "8809751b",
   "metadata": {
    "execution": {
     "iopub.execute_input": "2023-12-12T15:14:50.529129Z",
     "iopub.status.busy": "2023-12-12T15:14:50.528756Z",
     "iopub.status.idle": "2023-12-12T15:14:50.538584Z",
     "shell.execute_reply": "2023-12-12T15:14:50.537506Z"
    },
    "papermill": {
     "duration": 0.029919,
     "end_time": "2023-12-12T15:14:50.541618",
     "exception": false,
     "start_time": "2023-12-12T15:14:50.511699",
     "status": "completed"
    },
    "tags": []
   },
   "outputs": [
    {
     "data": {
      "text/html": [
       "<div>\n",
       "<style scoped>\n",
       "    .dataframe tbody tr th:only-of-type {\n",
       "        vertical-align: middle;\n",
       "    }\n",
       "\n",
       "    .dataframe tbody tr th {\n",
       "        vertical-align: top;\n",
       "    }\n",
       "\n",
       "    .dataframe thead th {\n",
       "        text-align: right;\n",
       "    }\n",
       "</style>\n",
       "<table border=\"1\" class=\"dataframe\">\n",
       "  <thead>\n",
       "    <tr style=\"text-align: right;\">\n",
       "      <th></th>\n",
       "      <th>listing_details</th>\n",
       "      <th>shopid</th>\n",
       "    </tr>\n",
       "  </thead>\n",
       "  <tbody>\n",
       "    <tr>\n",
       "      <th>0</th>\n",
       "      <td>\\t Bandage Bodycon Skirt No meet up Size XS25.0</td>\n",
       "      <td>2</td>\n",
       "    </tr>\n",
       "    <tr>\n",
       "      <th>1</th>\n",
       "      <td>Fashion Women Shoulder Bag Satche...</td>\n",
       "      <td>1</td>\n",
       "    </tr>\n",
       "    <tr>\n",
       "      <th>2</th>\n",
       "      <td>Fashion Women Shoulder Bag Satche...</td>\n",
       "      <td>1</td>\n",
       "    </tr>\n",
       "    <tr>\n",
       "      <th>3</th>\n",
       "      <td>Fashion Women Shoulder Bag Satche...</td>\n",
       "      <td>1</td>\n",
       "    </tr>\n",
       "    <tr>\n",
       "      <th>4</th>\n",
       "      <td>BOTTOM HIGH WAIST CLASSICColor: BLACK ...</td>\n",
       "      <td>1</td>\n",
       "    </tr>\n",
       "  </tbody>\n",
       "</table>\n",
       "</div>"
      ],
      "text/plain": [
       "                                     listing_details  shopid\n",
       "0    \\t Bandage Bodycon Skirt No meet up Size XS25.0       2\n",
       "1               Fashion Women Shoulder Bag Satche...       1\n",
       "2               Fashion Women Shoulder Bag Satche...       1\n",
       "3               Fashion Women Shoulder Bag Satche...       1\n",
       "4          BOTTOM HIGH WAIST CLASSICColor: BLACK ...       1"
      ]
     },
     "execution_count": 20,
     "metadata": {},
     "output_type": "execute_result"
    }
   ],
   "source": [
    "shopid_listing_count.head(5)"
   ]
  },
  {
   "cell_type": "code",
   "execution_count": 21,
   "id": "4ebe7b5e",
   "metadata": {
    "execution": {
     "iopub.execute_input": "2023-12-12T15:14:50.575553Z",
     "iopub.status.busy": "2023-12-12T15:14:50.574885Z",
     "iopub.status.idle": "2023-12-12T15:14:50.587630Z",
     "shell.execute_reply": "2023-12-12T15:14:50.586763Z"
    },
    "papermill": {
     "duration": 0.032259,
     "end_time": "2023-12-12T15:14:50.590133",
     "exception": false,
     "start_time": "2023-12-12T15:14:50.557874",
     "status": "completed"
    },
    "tags": []
   },
   "outputs": [],
   "source": [
    "duplicated_listing = shopid_listing_count[shopid_listing_count.shopid>1]"
   ]
  },
  {
   "cell_type": "code",
   "execution_count": 22,
   "id": "04414b59",
   "metadata": {
    "execution": {
     "iopub.execute_input": "2023-12-12T15:14:50.624889Z",
     "iopub.status.busy": "2023-12-12T15:14:50.624111Z",
     "iopub.status.idle": "2023-12-12T15:14:50.633617Z",
     "shell.execute_reply": "2023-12-12T15:14:50.632850Z"
    },
    "papermill": {
     "duration": 0.0292,
     "end_time": "2023-12-12T15:14:50.635635",
     "exception": false,
     "start_time": "2023-12-12T15:14:50.606435",
     "status": "completed"
    },
    "tags": []
   },
   "outputs": [
    {
     "data": {
      "text/html": [
       "<div>\n",
       "<style scoped>\n",
       "    .dataframe tbody tr th:only-of-type {\n",
       "        vertical-align: middle;\n",
       "    }\n",
       "\n",
       "    .dataframe tbody tr th {\n",
       "        vertical-align: top;\n",
       "    }\n",
       "\n",
       "    .dataframe thead th {\n",
       "        text-align: right;\n",
       "    }\n",
       "</style>\n",
       "<table border=\"1\" class=\"dataframe\">\n",
       "  <thead>\n",
       "    <tr style=\"text-align: right;\">\n",
       "      <th></th>\n",
       "      <th>listing_details</th>\n",
       "      <th>shopid</th>\n",
       "    </tr>\n",
       "  </thead>\n",
       "  <tbody>\n",
       "    <tr>\n",
       "      <th>0</th>\n",
       "      <td>\\t Bandage Bodycon Skirt No meet up Size XS25.0</td>\n",
       "      <td>2</td>\n",
       "    </tr>\n",
       "    <tr>\n",
       "      <th>12</th>\n",
       "      <td>New Women Handbag ShoulderFeature:    100...</td>\n",
       "      <td>2</td>\n",
       "    </tr>\n",
       "    <tr>\n",
       "      <th>13</th>\n",
       "      <td>Fashion Handbag Lady Shoulder Bag Tote Purs...</td>\n",
       "      <td>2</td>\n",
       "    </tr>\n",
       "    <tr>\n",
       "      <th>14</th>\n",
       "      <td>LVPAI  Vente chaude De Mode De Luxe  Femmes...</td>\n",
       "      <td>2</td>\n",
       "    </tr>\n",
       "    <tr>\n",
       "      <th>16</th>\n",
       "      <td>Mens canvas Sport  Sneakers Recreational Ca...</td>\n",
       "      <td>3</td>\n",
       "    </tr>\n",
       "  </tbody>\n",
       "</table>\n",
       "</div>"
      ],
      "text/plain": [
       "                                      listing_details  shopid\n",
       "0     \\t Bandage Bodycon Skirt No meet up Size XS25.0       2\n",
       "12       New Women Handbag ShoulderFeature:    100...       2\n",
       "13     Fashion Handbag Lady Shoulder Bag Tote Purs...       2\n",
       "14     LVPAI  Vente chaude De Mode De Luxe  Femmes...       2\n",
       "16     Mens canvas Sport  Sneakers Recreational Ca...       3"
      ]
     },
     "execution_count": 22,
     "metadata": {},
     "output_type": "execute_result"
    }
   ],
   "source": [
    "duplicated_listing.head(5)"
   ]
  },
  {
   "cell_type": "code",
   "execution_count": 23,
   "id": "0cd12260",
   "metadata": {
    "execution": {
     "iopub.execute_input": "2023-12-12T15:14:50.669355Z",
     "iopub.status.busy": "2023-12-12T15:14:50.668931Z",
     "iopub.status.idle": "2023-12-12T15:14:50.673750Z",
     "shell.execute_reply": "2023-12-12T15:14:50.672825Z"
    },
    "papermill": {
     "duration": 0.023981,
     "end_time": "2023-12-12T15:14:50.675853",
     "exception": false,
     "start_time": "2023-12-12T15:14:50.651872",
     "status": "completed"
    },
    "tags": []
   },
   "outputs": [],
   "source": [
    "duplicated_listing.columns = ['listing_details','shopid_count']"
   ]
  },
  {
   "cell_type": "markdown",
   "id": "75277b75",
   "metadata": {
    "papermill": {
     "duration": 0.015629,
     "end_time": "2023-12-12T15:14:50.707656",
     "exception": false,
     "start_time": "2023-12-12T15:14:50.692027",
     "status": "completed"
    },
    "tags": []
   },
   "source": [
    "10. Mark those duplicated listings with True otherwise False and store the marking result in a new column named “is_duplicated”"
   ]
  },
  {
   "cell_type": "code",
   "execution_count": 24,
   "id": "22f63ed8",
   "metadata": {
    "execution": {
     "iopub.execute_input": "2023-12-12T15:14:50.742408Z",
     "iopub.status.busy": "2023-12-12T15:14:50.741898Z",
     "iopub.status.idle": "2023-12-12T15:14:51.349139Z",
     "shell.execute_reply": "2023-12-12T15:14:51.347898Z"
    },
    "papermill": {
     "duration": 0.628355,
     "end_time": "2023-12-12T15:14:51.352234",
     "exception": false,
     "start_time": "2023-12-12T15:14:50.723879",
     "status": "completed"
    },
    "tags": []
   },
   "outputs": [
    {
     "data": {
      "text/html": [
       "<div>\n",
       "<style scoped>\n",
       "    .dataframe tbody tr th:only-of-type {\n",
       "        vertical-align: middle;\n",
       "    }\n",
       "\n",
       "    .dataframe tbody tr th {\n",
       "        vertical-align: top;\n",
       "    }\n",
       "\n",
       "    .dataframe thead th {\n",
       "        text-align: right;\n",
       "    }\n",
       "</style>\n",
       "<table border=\"1\" class=\"dataframe\">\n",
       "  <thead>\n",
       "    <tr style=\"text-align: right;\">\n",
       "      <th></th>\n",
       "      <th>itemid</th>\n",
       "      <th>shopid</th>\n",
       "      <th>item_name</th>\n",
       "      <th>item_description</th>\n",
       "      <th>item_variation</th>\n",
       "      <th>price</th>\n",
       "      <th>stock</th>\n",
       "      <th>category</th>\n",
       "      <th>cb_option</th>\n",
       "      <th>is_preferred</th>\n",
       "      <th>sold_count</th>\n",
       "      <th>item_creation_date</th>\n",
       "      <th>year</th>\n",
       "      <th>revenue</th>\n",
       "      <th>variation_count</th>\n",
       "      <th>listing_details</th>\n",
       "      <th>shopid_count</th>\n",
       "    </tr>\n",
       "  </thead>\n",
       "  <tbody>\n",
       "    <tr>\n",
       "      <th>0</th>\n",
       "      <td>1925574</td>\n",
       "      <td>210000</td>\n",
       "      <td>Golden mobile numbers</td>\n",
       "      <td>Unregistered prepaid cards1) 93355333  selling...</td>\n",
       "      <td>{}</td>\n",
       "      <td>400.0</td>\n",
       "      <td>1</td>\n",
       "      <td>Mobile &amp; Gadgets</td>\n",
       "      <td>0</td>\n",
       "      <td>0</td>\n",
       "      <td>0</td>\n",
       "      <td>2015-10-01 00:24:42</td>\n",
       "      <td>2015</td>\n",
       "      <td>0.0</td>\n",
       "      <td>0</td>\n",
       "      <td>Golden mobile numbersUnregistered prepaid card...</td>\n",
       "      <td>NaN</td>\n",
       "    </tr>\n",
       "    <tr>\n",
       "      <th>1</th>\n",
       "      <td>1925617</td>\n",
       "      <td>210000</td>\n",
       "      <td>Golden mobile numbers</td>\n",
       "      <td>Unregistered prepaid cards1) 93355888  selling...</td>\n",
       "      <td>{}</td>\n",
       "      <td>400.0</td>\n",
       "      <td>1</td>\n",
       "      <td>Mobile &amp; Gadgets</td>\n",
       "      <td>0</td>\n",
       "      <td>0</td>\n",
       "      <td>0</td>\n",
       "      <td>2015-10-01 00:26:37</td>\n",
       "      <td>2015</td>\n",
       "      <td>0.0</td>\n",
       "      <td>0</td>\n",
       "      <td>Golden mobile numbersUnregistered prepaid card...</td>\n",
       "      <td>NaN</td>\n",
       "    </tr>\n",
       "    <tr>\n",
       "      <th>2</th>\n",
       "      <td>943600</td>\n",
       "      <td>210000</td>\n",
       "      <td>Golden Mobile Numbers</td>\n",
       "      <td>Unregistered prepaid cards. Can port to post p...</td>\n",
       "      <td>{}</td>\n",
       "      <td>8.0</td>\n",
       "      <td>1</td>\n",
       "      <td>Mobile &amp; Gadgets</td>\n",
       "      <td>0</td>\n",
       "      <td>0</td>\n",
       "      <td>0</td>\n",
       "      <td>2015-08-25 21:02:13</td>\n",
       "      <td>2015</td>\n",
       "      <td>0.0</td>\n",
       "      <td>0</td>\n",
       "      <td>Golden Mobile NumbersUnregistered prepaid card...</td>\n",
       "      <td>NaN</td>\n",
       "    </tr>\n",
       "    <tr>\n",
       "      <th>3</th>\n",
       "      <td>1064405</td>\n",
       "      <td>210000</td>\n",
       "      <td>Golden Mobile Numbers</td>\n",
       "      <td>Unregistered prepaid cards. Can port to post p...</td>\n",
       "      <td>{}</td>\n",
       "      <td>8.0</td>\n",
       "      <td>1</td>\n",
       "      <td>Mobile &amp; Gadgets</td>\n",
       "      <td>0</td>\n",
       "      <td>0</td>\n",
       "      <td>0</td>\n",
       "      <td>2015-08-30 20:16:07</td>\n",
       "      <td>2015</td>\n",
       "      <td>0.0</td>\n",
       "      <td>0</td>\n",
       "      <td>Golden Mobile NumbersUnregistered prepaid card...</td>\n",
       "      <td>NaN</td>\n",
       "    </tr>\n",
       "    <tr>\n",
       "      <th>4</th>\n",
       "      <td>20046620</td>\n",
       "      <td>760000</td>\n",
       "      <td>101% AUTHENTIC BASEBALL CAPS</td>\n",
       "      <td>PREORDER Takes about 23 weeks to arrive, will ...</td>\n",
       "      <td>{NEWERA BLACK: 35.0, NIKE SWOOSH DENIM: 35.0, ...</td>\n",
       "      <td>35.0</td>\n",
       "      <td>300</td>\n",
       "      <td>Women's Apparel</td>\n",
       "      <td>0</td>\n",
       "      <td>0</td>\n",
       "      <td>0</td>\n",
       "      <td>2016-05-09 01:14:34</td>\n",
       "      <td>2016</td>\n",
       "      <td>0.0</td>\n",
       "      <td>6</td>\n",
       "      <td>101% AUTHENTIC BASEBALL CAPSPREORDER Takes abo...</td>\n",
       "      <td>NaN</td>\n",
       "    </tr>\n",
       "  </tbody>\n",
       "</table>\n",
       "</div>"
      ],
      "text/plain": [
       "     itemid  shopid                     item_name  \\\n",
       "0   1925574  210000         Golden mobile numbers   \n",
       "1   1925617  210000         Golden mobile numbers   \n",
       "2    943600  210000         Golden Mobile Numbers   \n",
       "3   1064405  210000         Golden Mobile Numbers   \n",
       "4  20046620  760000  101% AUTHENTIC BASEBALL CAPS   \n",
       "\n",
       "                                    item_description  \\\n",
       "0  Unregistered prepaid cards1) 93355333  selling...   \n",
       "1  Unregistered prepaid cards1) 93355888  selling...   \n",
       "2  Unregistered prepaid cards. Can port to post p...   \n",
       "3  Unregistered prepaid cards. Can port to post p...   \n",
       "4  PREORDER Takes about 23 weeks to arrive, will ...   \n",
       "\n",
       "                                      item_variation  price  stock  \\\n",
       "0                                                 {}  400.0      1   \n",
       "1                                                 {}  400.0      1   \n",
       "2                                                 {}    8.0      1   \n",
       "3                                                 {}    8.0      1   \n",
       "4  {NEWERA BLACK: 35.0, NIKE SWOOSH DENIM: 35.0, ...   35.0    300   \n",
       "\n",
       "           category cb_option is_preferred  sold_count  item_creation_date  \\\n",
       "0  Mobile & Gadgets         0            0           0 2015-10-01 00:24:42   \n",
       "1  Mobile & Gadgets         0            0           0 2015-10-01 00:26:37   \n",
       "2  Mobile & Gadgets         0            0           0 2015-08-25 21:02:13   \n",
       "3  Mobile & Gadgets         0            0           0 2015-08-30 20:16:07   \n",
       "4   Women's Apparel         0            0           0 2016-05-09 01:14:34   \n",
       "\n",
       "   year  revenue  variation_count  \\\n",
       "0  2015      0.0                0   \n",
       "1  2015      0.0                0   \n",
       "2  2015      0.0                0   \n",
       "3  2015      0.0                0   \n",
       "4  2016      0.0                6   \n",
       "\n",
       "                                     listing_details  shopid_count  \n",
       "0  Golden mobile numbersUnregistered prepaid card...           NaN  \n",
       "1  Golden mobile numbersUnregistered prepaid card...           NaN  \n",
       "2  Golden Mobile NumbersUnregistered prepaid card...           NaN  \n",
       "3  Golden Mobile NumbersUnregistered prepaid card...           NaN  \n",
       "4  101% AUTHENTIC BASEBALL CAPSPREORDER Takes abo...           NaN  "
      ]
     },
     "execution_count": 24,
     "metadata": {},
     "output_type": "execute_result"
    }
   ],
   "source": [
    "df_new = pd.merge(df,duplicated_listing, on = 'listing_details', how = 'left')\n",
    "\n",
    "df_new.head(5)"
   ]
  },
  {
   "cell_type": "code",
   "execution_count": 25,
   "id": "8e3e1deb",
   "metadata": {
    "execution": {
     "iopub.execute_input": "2023-12-12T15:14:51.389266Z",
     "iopub.status.busy": "2023-12-12T15:14:51.388830Z",
     "iopub.status.idle": "2023-12-12T15:14:51.904634Z",
     "shell.execute_reply": "2023-12-12T15:14:51.903527Z"
    },
    "papermill": {
     "duration": 0.536356,
     "end_time": "2023-12-12T15:14:51.907283",
     "exception": false,
     "start_time": "2023-12-12T15:14:51.370927",
     "status": "completed"
    },
    "tags": []
   },
   "outputs": [],
   "source": [
    "df_new['is_duplicated'] = [True if not pd.isnull(i) else False for i in df_new['shopid_count']]"
   ]
  },
  {
   "cell_type": "code",
   "execution_count": 26,
   "id": "a2aa02bb",
   "metadata": {
    "execution": {
     "iopub.execute_input": "2023-12-12T15:14:51.944668Z",
     "iopub.status.busy": "2023-12-12T15:14:51.944244Z",
     "iopub.status.idle": "2023-12-12T15:14:51.965924Z",
     "shell.execute_reply": "2023-12-12T15:14:51.964891Z"
    },
    "papermill": {
     "duration": 0.044126,
     "end_time": "2023-12-12T15:14:51.968334",
     "exception": false,
     "start_time": "2023-12-12T15:14:51.924208",
     "status": "completed"
    },
    "tags": []
   },
   "outputs": [
    {
     "data": {
      "text/html": [
       "<div>\n",
       "<style scoped>\n",
       "    .dataframe tbody tr th:only-of-type {\n",
       "        vertical-align: middle;\n",
       "    }\n",
       "\n",
       "    .dataframe tbody tr th {\n",
       "        vertical-align: top;\n",
       "    }\n",
       "\n",
       "    .dataframe thead th {\n",
       "        text-align: right;\n",
       "    }\n",
       "</style>\n",
       "<table border=\"1\" class=\"dataframe\">\n",
       "  <thead>\n",
       "    <tr style=\"text-align: right;\">\n",
       "      <th></th>\n",
       "      <th>itemid</th>\n",
       "      <th>shopid</th>\n",
       "      <th>item_name</th>\n",
       "      <th>item_description</th>\n",
       "      <th>item_variation</th>\n",
       "      <th>price</th>\n",
       "      <th>stock</th>\n",
       "      <th>category</th>\n",
       "      <th>cb_option</th>\n",
       "      <th>is_preferred</th>\n",
       "      <th>sold_count</th>\n",
       "      <th>item_creation_date</th>\n",
       "      <th>year</th>\n",
       "      <th>revenue</th>\n",
       "      <th>variation_count</th>\n",
       "      <th>listing_details</th>\n",
       "      <th>shopid_count</th>\n",
       "      <th>is_duplicated</th>\n",
       "    </tr>\n",
       "  </thead>\n",
       "  <tbody>\n",
       "    <tr>\n",
       "      <th>0</th>\n",
       "      <td>1925574</td>\n",
       "      <td>210000</td>\n",
       "      <td>Golden mobile numbers</td>\n",
       "      <td>Unregistered prepaid cards1) 93355333  selling...</td>\n",
       "      <td>{}</td>\n",
       "      <td>400.0</td>\n",
       "      <td>1</td>\n",
       "      <td>Mobile &amp; Gadgets</td>\n",
       "      <td>0</td>\n",
       "      <td>0</td>\n",
       "      <td>0</td>\n",
       "      <td>2015-10-01 00:24:42</td>\n",
       "      <td>2015</td>\n",
       "      <td>0.0</td>\n",
       "      <td>0</td>\n",
       "      <td>Golden mobile numbersUnregistered prepaid card...</td>\n",
       "      <td>NaN</td>\n",
       "      <td>False</td>\n",
       "    </tr>\n",
       "    <tr>\n",
       "      <th>1</th>\n",
       "      <td>1925617</td>\n",
       "      <td>210000</td>\n",
       "      <td>Golden mobile numbers</td>\n",
       "      <td>Unregistered prepaid cards1) 93355888  selling...</td>\n",
       "      <td>{}</td>\n",
       "      <td>400.0</td>\n",
       "      <td>1</td>\n",
       "      <td>Mobile &amp; Gadgets</td>\n",
       "      <td>0</td>\n",
       "      <td>0</td>\n",
       "      <td>0</td>\n",
       "      <td>2015-10-01 00:26:37</td>\n",
       "      <td>2015</td>\n",
       "      <td>0.0</td>\n",
       "      <td>0</td>\n",
       "      <td>Golden mobile numbersUnregistered prepaid card...</td>\n",
       "      <td>NaN</td>\n",
       "      <td>False</td>\n",
       "    </tr>\n",
       "    <tr>\n",
       "      <th>2</th>\n",
       "      <td>943600</td>\n",
       "      <td>210000</td>\n",
       "      <td>Golden Mobile Numbers</td>\n",
       "      <td>Unregistered prepaid cards. Can port to post p...</td>\n",
       "      <td>{}</td>\n",
       "      <td>8.0</td>\n",
       "      <td>1</td>\n",
       "      <td>Mobile &amp; Gadgets</td>\n",
       "      <td>0</td>\n",
       "      <td>0</td>\n",
       "      <td>0</td>\n",
       "      <td>2015-08-25 21:02:13</td>\n",
       "      <td>2015</td>\n",
       "      <td>0.0</td>\n",
       "      <td>0</td>\n",
       "      <td>Golden Mobile NumbersUnregistered prepaid card...</td>\n",
       "      <td>NaN</td>\n",
       "      <td>False</td>\n",
       "    </tr>\n",
       "    <tr>\n",
       "      <th>3</th>\n",
       "      <td>1064405</td>\n",
       "      <td>210000</td>\n",
       "      <td>Golden Mobile Numbers</td>\n",
       "      <td>Unregistered prepaid cards. Can port to post p...</td>\n",
       "      <td>{}</td>\n",
       "      <td>8.0</td>\n",
       "      <td>1</td>\n",
       "      <td>Mobile &amp; Gadgets</td>\n",
       "      <td>0</td>\n",
       "      <td>0</td>\n",
       "      <td>0</td>\n",
       "      <td>2015-08-30 20:16:07</td>\n",
       "      <td>2015</td>\n",
       "      <td>0.0</td>\n",
       "      <td>0</td>\n",
       "      <td>Golden Mobile NumbersUnregistered prepaid card...</td>\n",
       "      <td>NaN</td>\n",
       "      <td>False</td>\n",
       "    </tr>\n",
       "    <tr>\n",
       "      <th>4</th>\n",
       "      <td>20046620</td>\n",
       "      <td>760000</td>\n",
       "      <td>101% AUTHENTIC BASEBALL CAPS</td>\n",
       "      <td>PREORDER Takes about 23 weeks to arrive, will ...</td>\n",
       "      <td>{NEWERA BLACK: 35.0, NIKE SWOOSH DENIM: 35.0, ...</td>\n",
       "      <td>35.0</td>\n",
       "      <td>300</td>\n",
       "      <td>Women's Apparel</td>\n",
       "      <td>0</td>\n",
       "      <td>0</td>\n",
       "      <td>0</td>\n",
       "      <td>2016-05-09 01:14:34</td>\n",
       "      <td>2016</td>\n",
       "      <td>0.0</td>\n",
       "      <td>6</td>\n",
       "      <td>101% AUTHENTIC BASEBALL CAPSPREORDER Takes abo...</td>\n",
       "      <td>NaN</td>\n",
       "      <td>False</td>\n",
       "    </tr>\n",
       "  </tbody>\n",
       "</table>\n",
       "</div>"
      ],
      "text/plain": [
       "     itemid  shopid                     item_name  \\\n",
       "0   1925574  210000         Golden mobile numbers   \n",
       "1   1925617  210000         Golden mobile numbers   \n",
       "2    943600  210000         Golden Mobile Numbers   \n",
       "3   1064405  210000         Golden Mobile Numbers   \n",
       "4  20046620  760000  101% AUTHENTIC BASEBALL CAPS   \n",
       "\n",
       "                                    item_description  \\\n",
       "0  Unregistered prepaid cards1) 93355333  selling...   \n",
       "1  Unregistered prepaid cards1) 93355888  selling...   \n",
       "2  Unregistered prepaid cards. Can port to post p...   \n",
       "3  Unregistered prepaid cards. Can port to post p...   \n",
       "4  PREORDER Takes about 23 weeks to arrive, will ...   \n",
       "\n",
       "                                      item_variation  price  stock  \\\n",
       "0                                                 {}  400.0      1   \n",
       "1                                                 {}  400.0      1   \n",
       "2                                                 {}    8.0      1   \n",
       "3                                                 {}    8.0      1   \n",
       "4  {NEWERA BLACK: 35.0, NIKE SWOOSH DENIM: 35.0, ...   35.0    300   \n",
       "\n",
       "           category cb_option is_preferred  sold_count  item_creation_date  \\\n",
       "0  Mobile & Gadgets         0            0           0 2015-10-01 00:24:42   \n",
       "1  Mobile & Gadgets         0            0           0 2015-10-01 00:26:37   \n",
       "2  Mobile & Gadgets         0            0           0 2015-08-25 21:02:13   \n",
       "3  Mobile & Gadgets         0            0           0 2015-08-30 20:16:07   \n",
       "4   Women's Apparel         0            0           0 2016-05-09 01:14:34   \n",
       "\n",
       "   year  revenue  variation_count  \\\n",
       "0  2015      0.0                0   \n",
       "1  2015      0.0                0   \n",
       "2  2015      0.0                0   \n",
       "3  2015      0.0                0   \n",
       "4  2016      0.0                6   \n",
       "\n",
       "                                     listing_details  shopid_count  \\\n",
       "0  Golden mobile numbersUnregistered prepaid card...           NaN   \n",
       "1  Golden mobile numbersUnregistered prepaid card...           NaN   \n",
       "2  Golden Mobile NumbersUnregistered prepaid card...           NaN   \n",
       "3  Golden Mobile NumbersUnregistered prepaid card...           NaN   \n",
       "4  101% AUTHENTIC BASEBALL CAPSPREORDER Takes abo...           NaN   \n",
       "\n",
       "   is_duplicated  \n",
       "0          False  \n",
       "1          False  \n",
       "2          False  \n",
       "3          False  \n",
       "4          False  "
      ]
     },
     "execution_count": 26,
     "metadata": {},
     "output_type": "execute_result"
    }
   ],
   "source": [
    "df_new.head(5)"
   ]
  },
  {
   "cell_type": "markdown",
   "id": "a1ab7a11",
   "metadata": {
    "papermill": {
     "duration": 0.01624,
     "end_time": "2023-12-12T15:14:52.001267",
     "exception": false,
     "start_time": "2023-12-12T15:14:51.985027",
     "status": "completed"
    },
    "tags": []
   },
   "source": [
    "11. Find duplicate listings that has less than 2 sold count and store the result in a new excel file named “duplicated_listings.xlsx”"
   ]
  },
  {
   "cell_type": "code",
   "execution_count": 27,
   "id": "e502a6ee",
   "metadata": {
    "execution": {
     "iopub.execute_input": "2023-12-12T15:14:52.037323Z",
     "iopub.status.busy": "2023-12-12T15:14:52.036261Z",
     "iopub.status.idle": "2023-12-12T15:14:52.115602Z",
     "shell.execute_reply": "2023-12-12T15:14:52.114795Z"
    },
    "papermill": {
     "duration": 0.100059,
     "end_time": "2023-12-12T15:14:52.118003",
     "exception": false,
     "start_time": "2023-12-12T15:14:52.017944",
     "status": "completed"
    },
    "tags": []
   },
   "outputs": [],
   "source": [
    "duplicated_listing = df_new[(df_new['is_duplicated']) & (df_new['sold_count']<2)]"
   ]
  },
  {
   "cell_type": "code",
   "execution_count": 28,
   "id": "cdd2723d",
   "metadata": {
    "execution": {
     "iopub.execute_input": "2023-12-12T15:14:52.154074Z",
     "iopub.status.busy": "2023-12-12T15:14:52.152997Z",
     "iopub.status.idle": "2023-12-12T15:14:52.157206Z",
     "shell.execute_reply": "2023-12-12T15:14:52.156501Z"
    },
    "papermill": {
     "duration": 0.023944,
     "end_time": "2023-12-12T15:14:52.159415",
     "exception": false,
     "start_time": "2023-12-12T15:14:52.135471",
     "status": "completed"
    },
    "tags": []
   },
   "outputs": [],
   "source": [
    "#duplicated_listing.to_excel('../data/duplicated_listing.xlsx', index = False)"
   ]
  },
  {
   "cell_type": "markdown",
   "id": "658cd39b",
   "metadata": {
    "papermill": {
     "duration": 0.015916,
     "end_time": "2023-12-12T15:14:52.192154",
     "exception": false,
     "start_time": "2023-12-12T15:14:52.176238",
     "status": "completed"
    },
    "tags": []
   },
   "source": [
    "12. Find the preferred shop shopid that have the most number of duplicated listings"
   ]
  },
  {
   "cell_type": "code",
   "execution_count": 29,
   "id": "4cb345da",
   "metadata": {
    "execution": {
     "iopub.execute_input": "2023-12-12T15:14:52.226584Z",
     "iopub.status.busy": "2023-12-12T15:14:52.226167Z",
     "iopub.status.idle": "2023-12-12T15:14:52.338103Z",
     "shell.execute_reply": "2023-12-12T15:14:52.337018Z"
    },
    "papermill": {
     "duration": 0.132086,
     "end_time": "2023-12-12T15:14:52.340513",
     "exception": false,
     "start_time": "2023-12-12T15:14:52.208427",
     "status": "completed"
    },
    "tags": []
   },
   "outputs": [
    {
     "data": {
      "text/plain": [
       "shopid\n",
       "43384791    2034\n",
       "6072241     1998\n",
       "26974701    1037\n",
       "4498082      887\n",
       "37983742     677\n",
       "            ... \n",
       "2628503        2\n",
       "26213989       2\n",
       "25547805       2\n",
       "4523728        2\n",
       "10021          2\n",
       "Name: is_duplicated, Length: 533, dtype: int64"
      ]
     },
     "execution_count": 29,
     "metadata": {},
     "output_type": "execute_result"
    }
   ],
   "source": [
    "df_new[df_new['is_preferred']=='1'].groupby(['shopid'])['is_duplicated'].count().sort_values(ascending = False)"
   ]
  }
 ],
 "metadata": {
  "kaggle": {
   "accelerator": "none",
   "dataSources": [
    {
     "datasetId": 4153634,
     "sourceId": 7185107,
     "sourceType": "datasetVersion"
    }
   ],
   "dockerImageVersionId": 30615,
   "isGpuEnabled": false,
   "isInternetEnabled": true,
   "language": "python",
   "sourceType": "notebook"
  },
  "kernelspec": {
   "display_name": "Python 3",
   "language": "python",
   "name": "python3"
  },
  "language_info": {
   "codemirror_mode": {
    "name": "ipython",
    "version": 3
   },
   "file_extension": ".py",
   "mimetype": "text/x-python",
   "name": "python",
   "nbconvert_exporter": "python",
   "pygments_lexer": "ipython3",
   "version": "3.10.12"
  },
  "papermill": {
   "default_parameters": {},
   "duration": 160.529644,
   "end_time": "2023-12-12T15:14:53.180959",
   "environment_variables": {},
   "exception": null,
   "input_path": "__notebook__.ipynb",
   "output_path": "__notebook__.ipynb",
   "parameters": {},
   "start_time": "2023-12-12T15:12:12.651315",
   "version": "2.4.0"
  }
 },
 "nbformat": 4,
 "nbformat_minor": 5
}
